{
 "cells": [
  {
   "cell_type": "markdown",
   "metadata": {},
   "source": [
    "# Pre analysis setup\n",
    "## Note: The code creates a directory named \"Investment_Graphs\" for storing plot images."
   ]
  },
  {
   "cell_type": "code",
   "execution_count": 1,
   "metadata": {},
   "outputs": [],
   "source": [
    "# Load required libraries\n",
    "import numpy as np\n",
    "import pandas as pd\n",
    "import matplotlib.pyplot as plt\n",
    "import seaborn as sns\n",
    "import requests, bs4\n",
    "import os\n",
    "import shutil"
   ]
  },
  {
   "cell_type": "code",
   "execution_count": 2,
   "metadata": {},
   "outputs": [],
   "source": [
    "# plot constants for configuration\n",
    "palette = {\"venture\":\"g\", \"private_equity\":\"c\", \"seed\": \"m\", \"angel\": \"r\"}\n",
    "fontsize_title = 16\n",
    "fontsize_axislabel = 14\n",
    "figsize=[9,5]\n",
    "\n",
    "# In case you want to generate images instead of plotting them in notebook\n",
    "create_images = False"
   ]
  },
  {
   "cell_type": "code",
   "execution_count": 3,
   "metadata": {},
   "outputs": [],
   "source": [
    "# Setting for some print statements which can aid copy paste to excel(set to True)\n",
    "excelpaste_printing = False"
   ]
  },
  {
   "cell_type": "code",
   "execution_count": 4,
   "metadata": {},
   "outputs": [],
   "source": [
    "imagefoldername = \"Investment_Graphs\"\n",
    "imagefolderpath = \"./{}\".format(imagefoldername)\n",
    "if os.path.exists(imagefolderpath): shutil.rmtree(imagefolderpath)\n",
    "os.mkdir(imagefoldername)\n",
    "\n",
    "# Plot helping funtions\n",
    "def funding_roundtype_countplot(mstr_frame):\n",
    "    \"\"\"\n",
    "    Plots the count of funding_roundtype for the given dataframe.\n",
    "    \"\"\"\n",
    "    df = mstr_frame\n",
    "    figure, ax = plt.subplots(figsize=figsize)\n",
    "    funding_rndtype_counts = df.funding_round_type.astype('category').value_counts()\n",
    "    funding_rndtypes = funding_rndtype_counts.index.array\n",
    "    sns.barplot(funding_rndtypes, funding_rndtype_counts, order=funding_rndtypes, palette=palette)\n",
    "    plt.title(\"Funding type frequencies\", fontsize=fontsize_title)\n",
    "    plt.xlabel('Funding type', fontsize=fontsize_axislabel)\n",
    "    plt.ylabel('Frequency(log scale)', fontsize=fontsize_axislabel)\n",
    "    ax.set_yscale('log')\n",
    "    ax.set_xticklabels([\" \".join(roundtype.split(\"_\")).capitalize() for roundtype in funding_rndtypes])\n",
    "    \n",
    "    if create_images:\n",
    "        plt.savefig(imagefolderpath+'/Fundtype_Frequencies.png', bbox_inches='tight')\n",
    "    else:\n",
    "        plt.show()\n",
    "    \n",
    "\n",
    "def funding_roundtype_totalfundingplot(mstr_frame):\n",
    "    \"\"\"\n",
    "    Plots the total funding in the funding_roundtype for the given dataframe.\n",
    "    \"\"\"\n",
    "    df = mstr_frame\n",
    "    figure, ax = plt.subplots(figsize=figsize)\n",
    "    splot = sns.barplot(df.funding_round_type, df.raised_amount_usd, estimator=np.sum, palette=palette, errwidth=0)\n",
    "    plt.title(\"Total investments in funding types\", fontsize=fontsize_title)\n",
    "    plt.xlabel('Funding type', fontsize=fontsize_axislabel)\n",
    "    plt.ylabel('Total Investment in USD', fontsize=fontsize_axislabel)\n",
    "    funding_roundtypes = [label.get_text() for label in ax.get_xticklabels()]\n",
    "    ax.set_xticklabels([\" \".join(str(roundtype).split(\"_\")).capitalize() for roundtype in funding_roundtypes])\n",
    "        \n",
    "    for p in splot.patches:\n",
    "        height = int(p.get_height())\n",
    "        heightstr = \"$ {:,}\".format(height)\n",
    "        \n",
    "        splot.annotate(heightstr, \n",
    "                       (p.get_x() + p.get_width() / 2., p.get_height()), \n",
    "                       ha = 'center', va = 'center', \n",
    "                       xytext = (0, 9), \n",
    "                       textcoords = 'offset points')\n",
    "    \n",
    "    if create_images:\n",
    "        plt.savefig(imagefolderpath+'/Fundtype_TotalFunding.png', bbox_inches='tight')\n",
    "    else:\n",
    "        plt.show()\n",
    "\n",
    "def funding_roundtype_fundsdistplot(mstr_frame):\n",
    "    \"\"\"\n",
    "    Plots the distribution of investments for the \n",
    "    \"\"\"\n",
    "    df = mstr_frame\n",
    "    plt.figure(figsize=figsize)\n",
    "    ax = sns.boxplot(df.funding_round_type, df.raised_amount_usd, palette=palette)\n",
    "    plt.title(\"Investment distribution amongst funding types\", fontsize=fontsize_title)\n",
    "    plt.xlabel(\"Funding type\", fontsize=fontsize_axislabel)\n",
    "    plt.ylabel(\"Investment in USD\", fontsize=fontsize_axislabel)\n",
    "    \n",
    "    ax.set_xticklabels([\" \".join(str(roundtype).split(\"_\")).capitalize() for roundtype in df.funding_round_type])\n",
    "    \n",
    "    if create_images:\n",
    "        plt.savefig(imagefolderpath+'/Fundtype_FundingDistribution.png', bbox_inches='tight')\n",
    "    else:\n",
    "        plt.show()"
   ]
  },
  {
   "cell_type": "markdown",
   "metadata": {},
   "source": [
    "-------------------------------------------------------------------\n",
    "-------------------------------------------------------------------\n",
    "# Checkpoint 1: Data Cleaning 1    "
   ]
  },
  {
   "cell_type": "markdown",
   "metadata": {},
   "source": [
    "- Load the companies and rounds data (provided on the previous page) into two data frames and name them companies and rounds2 respectively."
   ]
  },
  {
   "cell_type": "code",
   "execution_count": 5,
   "metadata": {},
   "outputs": [],
   "source": [
    "# Load dataframes\n",
    "encoding = 'palmos'\n",
    "companies = pd.read_csv(\"companies.csv\", encoding=encoding)\n",
    "rounds2 = pd.read_csv(\"rounds2.csv\", encoding=encoding)"
   ]
  },
  {
   "cell_type": "markdown",
   "metadata": {},
   "source": [
    "## Observations on loading the df\n",
    "- Supported encoding needs to be found as files dont load using the default encoding\n",
    "    - One way is to use the command on terminal: file filename.csv but doesnt help much.\n",
    "        - file companies.csv: Non-ISO extended-ASCII text, with very long lines, with CRLF line terminators\n",
    "    - The other method is painful as we will need to go through a list of available encoding and try them out.\n",
    "    - Tried changing the encoding almost 100 times and ran the Checkpoint 1 to come to the conclusion to use __palmos__ "
   ]
  },
  {
   "cell_type": "markdown",
   "metadata": {},
   "source": [
    "## Getting a feel of the initial dataset for companies"
   ]
  },
  {
   "cell_type": "code",
   "execution_count": 6,
   "metadata": {
    "scrolled": false
   },
   "outputs": [
    {
     "name": "stdout",
     "output_type": "stream",
     "text": [
      "<class 'pandas.core.frame.DataFrame'>\n",
      "RangeIndex: 66368 entries, 0 to 66367\n",
      "Data columns (total 10 columns):\n",
      "permalink        66368 non-null object\n",
      "name             66367 non-null object\n",
      "homepage_url     61310 non-null object\n",
      "category_list    63220 non-null object\n",
      "status           66368 non-null object\n",
      "country_code     59410 non-null object\n",
      "state_code       57821 non-null object\n",
      "region           58338 non-null object\n",
      "city             58340 non-null object\n",
      "founded_at       51147 non-null object\n",
      "dtypes: object(10)\n",
      "memory usage: 5.1+ MB\n"
     ]
    }
   ],
   "source": [
    "companies.info()"
   ]
  },
  {
   "cell_type": "code",
   "execution_count": 7,
   "metadata": {},
   "outputs": [
    {
     "data": {
      "text/plain": [
       "founded_at       15221\n",
       "state_code        8547\n",
       "region            8030\n",
       "city              8028\n",
       "country_code      6958\n",
       "homepage_url      5058\n",
       "category_list     3148\n",
       "name                 1\n",
       "status               0\n",
       "permalink            0\n",
       "dtype: int64"
      ]
     },
     "execution_count": 7,
     "metadata": {},
     "output_type": "execute_result"
    }
   ],
   "source": [
    "companies.isnull().sum().sort_values(ascending=False)"
   ]
  },
  {
   "cell_type": "code",
   "execution_count": 8,
   "metadata": {
    "scrolled": true
   },
   "outputs": [
    {
     "data": {
      "text/html": [
       "<div>\n",
       "<style scoped>\n",
       "    .dataframe tbody tr th:only-of-type {\n",
       "        vertical-align: middle;\n",
       "    }\n",
       "\n",
       "    .dataframe tbody tr th {\n",
       "        vertical-align: top;\n",
       "    }\n",
       "\n",
       "    .dataframe thead th {\n",
       "        text-align: right;\n",
       "    }\n",
       "</style>\n",
       "<table border=\"1\" class=\"dataframe\">\n",
       "  <thead>\n",
       "    <tr style=\"text-align: right;\">\n",
       "      <th></th>\n",
       "      <th>permalink</th>\n",
       "      <th>name</th>\n",
       "      <th>homepage_url</th>\n",
       "      <th>category_list</th>\n",
       "      <th>status</th>\n",
       "      <th>country_code</th>\n",
       "      <th>state_code</th>\n",
       "      <th>region</th>\n",
       "      <th>city</th>\n",
       "      <th>founded_at</th>\n",
       "    </tr>\n",
       "  </thead>\n",
       "  <tbody>\n",
       "    <tr>\n",
       "      <td>5876</td>\n",
       "      <td>/Organization/Bark-Co</td>\n",
       "      <td>Bark &amp; Co</td>\n",
       "      <td>http://bark.co</td>\n",
       "      <td>Pets</td>\n",
       "      <td>operating</td>\n",
       "      <td>USA</td>\n",
       "      <td>NY</td>\n",
       "      <td>New York City</td>\n",
       "      <td>New York</td>\n",
       "      <td>NaN</td>\n",
       "    </tr>\n",
       "    <tr>\n",
       "      <td>33346</td>\n",
       "      <td>/Organization/Loyalty-Builders</td>\n",
       "      <td>Loyalty Builders</td>\n",
       "      <td>http://www.loyaltybuilders.com/</td>\n",
       "      <td>Advertising</td>\n",
       "      <td>operating</td>\n",
       "      <td>USA</td>\n",
       "      <td>NH</td>\n",
       "      <td>Portsmouth</td>\n",
       "      <td>Portsmouth</td>\n",
       "      <td>01-01-1999</td>\n",
       "    </tr>\n",
       "    <tr>\n",
       "      <td>55803</td>\n",
       "      <td>/Organization/Sylob</td>\n",
       "      <td>SYLOB</td>\n",
       "      <td>http://www.sylob.com</td>\n",
       "      <td>Software</td>\n",
       "      <td>operating</td>\n",
       "      <td>FRA</td>\n",
       "      <td>B3</td>\n",
       "      <td>FRA - Other</td>\n",
       "      <td>Cambon</td>\n",
       "      <td>NaN</td>\n",
       "    </tr>\n",
       "  </tbody>\n",
       "</table>\n",
       "</div>"
      ],
      "text/plain": [
       "                            permalink              name  \\\n",
       "5876            /Organization/Bark-Co         Bark & Co   \n",
       "33346  /Organization/Loyalty-Builders  Loyalty Builders   \n",
       "55803             /Organization/Sylob             SYLOB   \n",
       "\n",
       "                          homepage_url category_list     status country_code  \\\n",
       "5876                    http://bark.co          Pets  operating          USA   \n",
       "33346  http://www.loyaltybuilders.com/   Advertising  operating          USA   \n",
       "55803             http://www.sylob.com      Software  operating          FRA   \n",
       "\n",
       "      state_code         region        city  founded_at  \n",
       "5876          NY  New York City    New York         NaN  \n",
       "33346         NH     Portsmouth  Portsmouth  01-01-1999  \n",
       "55803         B3    FRA - Other      Cambon         NaN  "
      ]
     },
     "execution_count": 8,
     "metadata": {},
     "output_type": "execute_result"
    }
   ],
   "source": [
    "companies.sample(3)"
   ]
  },
  {
   "cell_type": "markdown",
   "metadata": {},
   "source": [
    "## Summary Getting a feel of the initial dataset for companies\n",
    "- __Number of records__: 66,368\n",
    "- __Number of columns__: 10\n",
    "- __Columns having missing values__:\n",
    "    - __founded_at__: 15,221\n",
    "    - __state_code__: 08,547\n",
    "    - __region__: 08,030\n",
    "    - __city__: 08,028\n",
    "    - __country_code__: 06,958\n",
    "    - __homepage_url__: 05,058\n",
    "    - __category_list__: 03,148\n",
    "    - __name__: 00,001\n",
    "- __Columns that can be dropped(In the assignment checkpoints these are not helpful for analysis)__:\n",
    "    - homepage_url\n",
    "    - state_code\n",
    "    - region\n",
    "    - city\n",
    "    - founded_at\n",
    "    \n",
    "__Actions identified__:\n",
    "1. Drop the columns that are not required\n",
    "    "
   ]
  },
  {
   "cell_type": "code",
   "execution_count": 9,
   "metadata": {},
   "outputs": [
    {
     "data": {
      "text/plain": [
       "(66368, 5)"
      ]
     },
     "execution_count": 9,
     "metadata": {},
     "output_type": "execute_result"
    }
   ],
   "source": [
    "drop_columns = [\"homepage_url\", \"state_code\", \"region\", \"city\", \"founded_at\"]\n",
    "companies = companies.iloc[:, ~(companies.columns.isin(drop_columns))]\n",
    "companies.shape"
   ]
  },
  {
   "cell_type": "markdown",
   "metadata": {},
   "source": [
    "## Getting a feel of the initial dataset for rounds2"
   ]
  },
  {
   "cell_type": "code",
   "execution_count": 10,
   "metadata": {},
   "outputs": [
    {
     "name": "stdout",
     "output_type": "stream",
     "text": [
      "<class 'pandas.core.frame.DataFrame'>\n",
      "RangeIndex: 114949 entries, 0 to 114948\n",
      "Data columns (total 6 columns):\n",
      "company_permalink          114949 non-null object\n",
      "funding_round_permalink    114949 non-null object\n",
      "funding_round_type         114949 non-null object\n",
      "funding_round_code         31140 non-null object\n",
      "funded_at                  114949 non-null object\n",
      "raised_amount_usd          94959 non-null float64\n",
      "dtypes: float64(1), object(5)\n",
      "memory usage: 5.3+ MB\n"
     ]
    }
   ],
   "source": [
    "rounds2.info()"
   ]
  },
  {
   "cell_type": "code",
   "execution_count": 11,
   "metadata": {},
   "outputs": [
    {
     "data": {
      "text/html": [
       "<div>\n",
       "<style scoped>\n",
       "    .dataframe tbody tr th:only-of-type {\n",
       "        vertical-align: middle;\n",
       "    }\n",
       "\n",
       "    .dataframe tbody tr th {\n",
       "        vertical-align: top;\n",
       "    }\n",
       "\n",
       "    .dataframe thead th {\n",
       "        text-align: right;\n",
       "    }\n",
       "</style>\n",
       "<table border=\"1\" class=\"dataframe\">\n",
       "  <thead>\n",
       "    <tr style=\"text-align: right;\">\n",
       "      <th></th>\n",
       "      <th>raised_amount_usd</th>\n",
       "    </tr>\n",
       "  </thead>\n",
       "  <tbody>\n",
       "    <tr>\n",
       "      <td>count</td>\n",
       "      <td>9.495900e+04</td>\n",
       "    </tr>\n",
       "    <tr>\n",
       "      <td>mean</td>\n",
       "      <td>1.042687e+07</td>\n",
       "    </tr>\n",
       "    <tr>\n",
       "      <td>std</td>\n",
       "      <td>1.148212e+08</td>\n",
       "    </tr>\n",
       "    <tr>\n",
       "      <td>min</td>\n",
       "      <td>0.000000e+00</td>\n",
       "    </tr>\n",
       "    <tr>\n",
       "      <td>25%</td>\n",
       "      <td>3.225000e+05</td>\n",
       "    </tr>\n",
       "    <tr>\n",
       "      <td>50%</td>\n",
       "      <td>1.680511e+06</td>\n",
       "    </tr>\n",
       "    <tr>\n",
       "      <td>75%</td>\n",
       "      <td>7.000000e+06</td>\n",
       "    </tr>\n",
       "    <tr>\n",
       "      <td>max</td>\n",
       "      <td>2.127194e+10</td>\n",
       "    </tr>\n",
       "  </tbody>\n",
       "</table>\n",
       "</div>"
      ],
      "text/plain": [
       "       raised_amount_usd\n",
       "count       9.495900e+04\n",
       "mean        1.042687e+07\n",
       "std         1.148212e+08\n",
       "min         0.000000e+00\n",
       "25%         3.225000e+05\n",
       "50%         1.680511e+06\n",
       "75%         7.000000e+06\n",
       "max         2.127194e+10"
      ]
     },
     "execution_count": 11,
     "metadata": {},
     "output_type": "execute_result"
    }
   ],
   "source": [
    "rounds2.describe()"
   ]
  },
  {
   "cell_type": "code",
   "execution_count": 12,
   "metadata": {
    "scrolled": false
   },
   "outputs": [
    {
     "data": {
      "text/plain": [
       "funding_round_code         83809\n",
       "raised_amount_usd          19990\n",
       "funded_at                      0\n",
       "funding_round_type             0\n",
       "funding_round_permalink        0\n",
       "company_permalink              0\n",
       "dtype: int64"
      ]
     },
     "execution_count": 12,
     "metadata": {},
     "output_type": "execute_result"
    }
   ],
   "source": [
    "rounds2.isnull().sum().sort_values(ascending=False)"
   ]
  },
  {
   "cell_type": "code",
   "execution_count": 13,
   "metadata": {
    "scrolled": false
   },
   "outputs": [
    {
     "data": {
      "text/html": [
       "<div>\n",
       "<style scoped>\n",
       "    .dataframe tbody tr th:only-of-type {\n",
       "        vertical-align: middle;\n",
       "    }\n",
       "\n",
       "    .dataframe tbody tr th {\n",
       "        vertical-align: top;\n",
       "    }\n",
       "\n",
       "    .dataframe thead th {\n",
       "        text-align: right;\n",
       "    }\n",
       "</style>\n",
       "<table border=\"1\" class=\"dataframe\">\n",
       "  <thead>\n",
       "    <tr style=\"text-align: right;\">\n",
       "      <th></th>\n",
       "      <th>company_permalink</th>\n",
       "      <th>funding_round_permalink</th>\n",
       "      <th>funding_round_type</th>\n",
       "      <th>funding_round_code</th>\n",
       "      <th>funded_at</th>\n",
       "      <th>raised_amount_usd</th>\n",
       "    </tr>\n",
       "  </thead>\n",
       "  <tbody>\n",
       "    <tr>\n",
       "      <td>85685</td>\n",
       "      <td>/ORGANIZATION/SAMPLIFY-SYSTEMS</td>\n",
       "      <td>/funding-round/53e82b52e78636c662ee520082024f83</td>\n",
       "      <td>venture</td>\n",
       "      <td>NaN</td>\n",
       "      <td>01-01-2006</td>\n",
       "      <td>300000.0</td>\n",
       "    </tr>\n",
       "    <tr>\n",
       "      <td>76893</td>\n",
       "      <td>/ORGANIZATION/POLARIS-WIRELESS</td>\n",
       "      <td>/funding-round/80fa1a560983410569070df51d318b63</td>\n",
       "      <td>undisclosed</td>\n",
       "      <td>NaN</td>\n",
       "      <td>01-07-2001</td>\n",
       "      <td>NaN</td>\n",
       "    </tr>\n",
       "    <tr>\n",
       "      <td>91377</td>\n",
       "      <td>/ORGANIZATION/SNAPAPPOINTMENTS</td>\n",
       "      <td>/funding-round/a7e7ad8548a0c5cfa138fd62d9a07186</td>\n",
       "      <td>angel</td>\n",
       "      <td>NaN</td>\n",
       "      <td>10-11-2011</td>\n",
       "      <td>NaN</td>\n",
       "    </tr>\n",
       "  </tbody>\n",
       "</table>\n",
       "</div>"
      ],
      "text/plain": [
       "                    company_permalink  \\\n",
       "85685  /ORGANIZATION/SAMPLIFY-SYSTEMS   \n",
       "76893  /ORGANIZATION/POLARIS-WIRELESS   \n",
       "91377  /ORGANIZATION/SNAPAPPOINTMENTS   \n",
       "\n",
       "                               funding_round_permalink funding_round_type  \\\n",
       "85685  /funding-round/53e82b52e78636c662ee520082024f83            venture   \n",
       "76893  /funding-round/80fa1a560983410569070df51d318b63        undisclosed   \n",
       "91377  /funding-round/a7e7ad8548a0c5cfa138fd62d9a07186              angel   \n",
       "\n",
       "      funding_round_code   funded_at  raised_amount_usd  \n",
       "85685                NaN  01-01-2006           300000.0  \n",
       "76893                NaN  01-07-2001                NaN  \n",
       "91377                NaN  10-11-2011                NaN  "
      ]
     },
     "execution_count": 13,
     "metadata": {},
     "output_type": "execute_result"
    }
   ],
   "source": [
    "rounds2.sample(3)"
   ]
  },
  {
   "cell_type": "markdown",
   "metadata": {},
   "source": [
    "## Summary Getting a feel of the initial dataset for rounds2\n",
    "- __Number of records__: 1,14,949\n",
    "- __Number of columns__: 6\n",
    "- __Columns having missing values__:\n",
    "    - __funding_round_code__: 83,809\n",
    "    - __raised_amount_usd__: 19,990\n",
    "- __Columns that can be dropped(In the assignment checkpoints these are not helpful for analysis)__:\n",
    "    - funding_round_code\n",
    "    - funded_at\n",
    "    - funding_round_permalink\n",
    "    \n",
    "__Actions identified__:\n",
    "1. Drop the columns that are not required\n",
    "    "
   ]
  },
  {
   "cell_type": "code",
   "execution_count": 14,
   "metadata": {},
   "outputs": [
    {
     "data": {
      "text/plain": [
       "(114949, 3)"
      ]
     },
     "execution_count": 14,
     "metadata": {},
     "output_type": "execute_result"
    }
   ],
   "source": [
    "drop_columns = [\"funding_round_permalink\", \"funding_round_code\", \"funded_at\"]\n",
    "rounds2 = rounds2.iloc[:, ~(rounds2.columns.isin(drop_columns))]\n",
    "rounds2.shape"
   ]
  },
  {
   "cell_type": "markdown",
   "metadata": {},
   "source": [
    "#### Find answers to the questions given below:\n",
    "1. How many unique companies are present in rounds2?\n",
    "\n",
    "2. How many unique companies are present in companies?\n",
    "\n",
    "3. In the companies data frame, which column can be used as the unique key for each company? Write the name of the column.\n",
    "\n",
    "4. Are there any companies in the rounds2 file which are not present in companies? Answer yes or no: Y/N\n",
    "\n",
    "5. Merge the two data frames so that all variables (columns) in the companies frame are added to the rounds2 data frame. Name the merged frame master_frame. How many observations are present in master_frame?"
   ]
  },
  {
   "cell_type": "code",
   "execution_count": 15,
   "metadata": {},
   "outputs": [
    {
     "name": "stdout",
     "output_type": "stream",
     "text": [
      "How many unique companies are present in rounds2?\n",
      "- 66368\n",
      "\n",
      "How many unique companies are present in companies?\n",
      "- 66368\n",
      "\n",
      "In the companies data frame, which column can be used as the unique key for each company? Write the name of the column.\n",
      "- permalink\n",
      "\n",
      "Are there any companies in the rounds2 file which are not present in companies? Answer yes or no: Y/N\n",
      "- N\n",
      "\n",
      "Merge the two data frames so that all variables (columns) in the companies frame are added to the rounds2 data frame. Name the merged frame master_frame. How many observations are present in master_frame?\n",
      "- 114949\n"
     ]
    }
   ],
   "source": [
    "# The company_permalink column might have permalinks representing the same company in lowercase as well as upper case.\n",
    "# So lets lowercase the company_permalink column and find unique values\n",
    "rounds2.company_permalink = rounds2.company_permalink.apply(lambda permalink: permalink.lower())\n",
    "print(\"How many unique companies are present in rounds2?\")\n",
    "print(\"-\", rounds2.company_permalink.nunique())\n",
    "print(\"\")\n",
    "\n",
    "\n",
    "\n",
    "\n",
    "# The permalink column might have permalinks representing the same company in lowercase as well as upper case.\n",
    "# So lets lowercase the permalink column and find unique values\n",
    "companies.permalink = companies.permalink.apply(lambda permalink: permalink.lower())\n",
    "print(\"How many unique companies are present in companies?\")\n",
    "print(\"-\", companies.permalink.nunique())\n",
    "print(\"\")\n",
    "\n",
    "\n",
    "\n",
    "\n",
    "\n",
    "#If the number of rows and number of unique values of any column match, then such columns are potential candidates \n",
    "#for being the unique keys.\n",
    "companies_nrows = companies.shape[0]\n",
    "companies_columns_nunique = companies.nunique()\n",
    "uniquekey_candidates = list((companies_columns_nunique == companies_nrows)\n",
    "                            .index[companies_columns_nunique == companies_nrows])\n",
    "\n",
    "print(\"In the companies data frame, which column can be used as the unique key for each company? Write the name of the column.\")\n",
    "print(\"-\", uniquekey_candidates[0])\n",
    "print(\"\")\n",
    "\n",
    "\n",
    "\n",
    "\n",
    "# Checking if all rounds2 company_permalink are in companies permalink\n",
    "all_exist_in_companies = rounds2.company_permalink.isin(companies.permalink).sum() == rounds2.shape[0]\n",
    "print(\"Are there any companies in the rounds2 file which are not present in companies? Answer yes or no: Y/N\")\n",
    "print(\"- N\" if all_exist_in_companies else \"- Y\")\n",
    "print(\"\")\n",
    "\n",
    "\n",
    "\n",
    "master_frame = pd.merge(companies.rename(columns={\"permalink\":\"company_permalink\"}), rounds2, how=\"inner\", on=\"company_permalink\")\n",
    "print(\"Merge the two data frames so that all variables (columns) in the companies frame are added to the rounds2 data frame. Name the merged frame master_frame. How many observations are present in master_frame?\")\n",
    "print(\"-\", master_frame.shape[0])\n",
    "\n",
    "if excelpaste_printing:\n",
    "    print(\"-------------Excel paste data Table - 1.1------------\")\n",
    "    print(rounds2.company_permalink.nunique())\n",
    "    print(companies.permalink.nunique())\n",
    "    print(uniquekey_candidates[0])\n",
    "    print(\"N\" if all_exist_in_companies else \"Y\")\n",
    "    print(master_frame.shape[0])"
   ]
  },
  {
   "cell_type": "markdown",
   "metadata": {},
   "source": [
    "## Getting a feel of the initial dataset for master_frame"
   ]
  },
  {
   "cell_type": "code",
   "execution_count": 16,
   "metadata": {
    "scrolled": false
   },
   "outputs": [
    {
     "name": "stdout",
     "output_type": "stream",
     "text": [
      "<class 'pandas.core.frame.DataFrame'>\n",
      "Int64Index: 114949 entries, 0 to 114948\n",
      "Data columns (total 7 columns):\n",
      "company_permalink     114949 non-null object\n",
      "name                  114948 non-null object\n",
      "category_list         111539 non-null object\n",
      "status                114949 non-null object\n",
      "country_code          106271 non-null object\n",
      "funding_round_type    114949 non-null object\n",
      "raised_amount_usd     94959 non-null float64\n",
      "dtypes: float64(1), object(6)\n",
      "memory usage: 7.0+ MB\n"
     ]
    }
   ],
   "source": [
    "master_frame.info()"
   ]
  },
  {
   "cell_type": "code",
   "execution_count": 17,
   "metadata": {
    "scrolled": true
   },
   "outputs": [
    {
     "data": {
      "text/html": [
       "<div>\n",
       "<style scoped>\n",
       "    .dataframe tbody tr th:only-of-type {\n",
       "        vertical-align: middle;\n",
       "    }\n",
       "\n",
       "    .dataframe tbody tr th {\n",
       "        vertical-align: top;\n",
       "    }\n",
       "\n",
       "    .dataframe thead th {\n",
       "        text-align: right;\n",
       "    }\n",
       "</style>\n",
       "<table border=\"1\" class=\"dataframe\">\n",
       "  <thead>\n",
       "    <tr style=\"text-align: right;\">\n",
       "      <th></th>\n",
       "      <th>raised_amount_usd</th>\n",
       "    </tr>\n",
       "  </thead>\n",
       "  <tbody>\n",
       "    <tr>\n",
       "      <td>count</td>\n",
       "      <td>9.495900e+04</td>\n",
       "    </tr>\n",
       "    <tr>\n",
       "      <td>mean</td>\n",
       "      <td>1.042687e+07</td>\n",
       "    </tr>\n",
       "    <tr>\n",
       "      <td>std</td>\n",
       "      <td>1.148212e+08</td>\n",
       "    </tr>\n",
       "    <tr>\n",
       "      <td>min</td>\n",
       "      <td>0.000000e+00</td>\n",
       "    </tr>\n",
       "    <tr>\n",
       "      <td>25%</td>\n",
       "      <td>3.225000e+05</td>\n",
       "    </tr>\n",
       "    <tr>\n",
       "      <td>50%</td>\n",
       "      <td>1.680511e+06</td>\n",
       "    </tr>\n",
       "    <tr>\n",
       "      <td>75%</td>\n",
       "      <td>7.000000e+06</td>\n",
       "    </tr>\n",
       "    <tr>\n",
       "      <td>max</td>\n",
       "      <td>2.127194e+10</td>\n",
       "    </tr>\n",
       "  </tbody>\n",
       "</table>\n",
       "</div>"
      ],
      "text/plain": [
       "       raised_amount_usd\n",
       "count       9.495900e+04\n",
       "mean        1.042687e+07\n",
       "std         1.148212e+08\n",
       "min         0.000000e+00\n",
       "25%         3.225000e+05\n",
       "50%         1.680511e+06\n",
       "75%         7.000000e+06\n",
       "max         2.127194e+10"
      ]
     },
     "execution_count": 17,
     "metadata": {},
     "output_type": "execute_result"
    }
   ],
   "source": [
    "master_frame.describe()"
   ]
  },
  {
   "cell_type": "code",
   "execution_count": 18,
   "metadata": {
    "scrolled": false
   },
   "outputs": [
    {
     "data": {
      "text/plain": [
       "raised_amount_usd     19990\n",
       "country_code           8678\n",
       "category_list          3410\n",
       "name                      1\n",
       "funding_round_type        0\n",
       "status                    0\n",
       "company_permalink         0\n",
       "dtype: int64"
      ]
     },
     "execution_count": 18,
     "metadata": {},
     "output_type": "execute_result"
    }
   ],
   "source": [
    "master_frame.isnull().sum().sort_values(ascending=False)"
   ]
  },
  {
   "cell_type": "code",
   "execution_count": 19,
   "metadata": {},
   "outputs": [
    {
     "data": {
      "text/html": [
       "<div>\n",
       "<style scoped>\n",
       "    .dataframe tbody tr th:only-of-type {\n",
       "        vertical-align: middle;\n",
       "    }\n",
       "\n",
       "    .dataframe tbody tr th {\n",
       "        vertical-align: top;\n",
       "    }\n",
       "\n",
       "    .dataframe thead th {\n",
       "        text-align: right;\n",
       "    }\n",
       "</style>\n",
       "<table border=\"1\" class=\"dataframe\">\n",
       "  <thead>\n",
       "    <tr style=\"text-align: right;\">\n",
       "      <th></th>\n",
       "      <th>company_permalink</th>\n",
       "      <th>name</th>\n",
       "      <th>category_list</th>\n",
       "      <th>status</th>\n",
       "      <th>country_code</th>\n",
       "      <th>funding_round_type</th>\n",
       "      <th>raised_amount_usd</th>\n",
       "    </tr>\n",
       "  </thead>\n",
       "  <tbody>\n",
       "    <tr>\n",
       "      <td>25260</td>\n",
       "      <td>/organization/curse</td>\n",
       "      <td>Curse</td>\n",
       "      <td>Digital Media|Technology|Video Games</td>\n",
       "      <td>operating</td>\n",
       "      <td>USA</td>\n",
       "      <td>venture</td>\n",
       "      <td>16000000.0</td>\n",
       "    </tr>\n",
       "    <tr>\n",
       "      <td>70365</td>\n",
       "      <td>/organization/ondore</td>\n",
       "      <td>Ondore</td>\n",
       "      <td>Big Data</td>\n",
       "      <td>operating</td>\n",
       "      <td>USA</td>\n",
       "      <td>seed</td>\n",
       "      <td>NaN</td>\n",
       "    </tr>\n",
       "    <tr>\n",
       "      <td>52455</td>\n",
       "      <td>/organization/keen-systems</td>\n",
       "      <td>Keen Systems</td>\n",
       "      <td>Cloud Infrastructure|CRM|E-Commerce|Enterprise...</td>\n",
       "      <td>operating</td>\n",
       "      <td>USA</td>\n",
       "      <td>seed</td>\n",
       "      <td>925000.0</td>\n",
       "    </tr>\n",
       "  </tbody>\n",
       "</table>\n",
       "</div>"
      ],
      "text/plain": [
       "                company_permalink          name  \\\n",
       "25260         /organization/curse         Curse   \n",
       "70365        /organization/ondore        Ondore   \n",
       "52455  /organization/keen-systems  Keen Systems   \n",
       "\n",
       "                                           category_list     status  \\\n",
       "25260               Digital Media|Technology|Video Games  operating   \n",
       "70365                                           Big Data  operating   \n",
       "52455  Cloud Infrastructure|CRM|E-Commerce|Enterprise...  operating   \n",
       "\n",
       "      country_code funding_round_type  raised_amount_usd  \n",
       "25260          USA            venture         16000000.0  \n",
       "70365          USA               seed                NaN  \n",
       "52455          USA               seed           925000.0  "
      ]
     },
     "execution_count": 19,
     "metadata": {},
     "output_type": "execute_result"
    }
   ],
   "source": [
    "master_frame.sample(3)"
   ]
  },
  {
   "cell_type": "code",
   "execution_count": 20,
   "metadata": {},
   "outputs": [
    {
     "data": {
      "text/plain": [
       "(114949, 7)"
      ]
     },
     "execution_count": 20,
     "metadata": {},
     "output_type": "execute_result"
    }
   ],
   "source": [
    "master_frame.shape"
   ]
  },
  {
   "cell_type": "markdown",
   "metadata": {},
   "source": [
    "## Summary Getting a feel of the initial dataset for master_frame\n",
    "- __Number of records__: 1,14,949\n",
    "- __Number of columns__: 8\n",
    "- __Columns having missing values__:\n",
    "    - __raised_amount_usd__: 19,990\n",
    "    - __country_code__: 08,678\n",
    "    - __category_list__: 03,410"
   ]
  },
  {
   "cell_type": "markdown",
   "metadata": {},
   "source": [
    "## Summary Checkpoint 1: Data Cleaning 1\n",
    "1. How many unique companies are present in rounds2? <br>\n",
    "__66368__\n",
    "\n",
    "2. How many unique companies are present in companies? <br>\n",
    "__66368__\n",
    "\n",
    "3. In the companies data frame, which column can be used as the unique key for each company? Write the name of the column. <br>\n",
    "__permalink__\n",
    "\n",
    "4. Are there any companies in the rounds2 file which are not present in companies? Answer yes or no: Y/N <br>\n",
    "__N__\n",
    "\n",
    "5. Merge the two data frames so that all variables (columns) in the companies frame are added to the rounds2 data frame. Name the merged frame master_frame. How many observations are present in master_frame? <br>\n",
    "__114949__\n",
    "\n",
    "### Dropped columns\n",
    "- companies\n",
    "    - \"homepage_url\", \"state_code\", \"region\", \"city\", \"founded_at\"\n",
    "- rounds2\n",
    "    - \"funding_round_permalink\", \"funding_round_code\", \"funded_at\"\n",
    "\n",
    "### mastet_frame shape: (114949, 7)\n"
   ]
  },
  {
   "cell_type": "markdown",
   "metadata": {},
   "source": [
    "-------------------------------------------------------------------\n",
    "-------------------------------------------------------------------\n",
    "# Checkpoint 2: Funding Type Analysis\n",
    "## This is the first of the three goals of data analysis – investment type analysis.\n",
    "1. Calculate the most representative value of the investment amount for each of the four funding types (venture, angel, seed, and private equity) and report the answers in Table 2.1\n",
    "2. Based on the most representative investment amount calculated above, which investment type do you think is the most suitable for Spark Funds?"
   ]
  },
  {
   "cell_type": "code",
   "execution_count": 21,
   "metadata": {},
   "outputs": [
    {
     "name": "stdout",
     "output_type": "stream",
     "text": [
      "status:\n",
      " ['operating' 'acquired' 'closed' 'ipo']\n",
      "\n",
      "funding_round_type:\n",
      " ['venture' 'seed' 'undisclosed' 'equity_crowdfunding' 'convertible_note'\n",
      " 'private_equity' 'debt_financing' 'angel' 'grant' 'secondary_market'\n",
      " 'post_ipo_equity' 'post_ipo_debt' 'product_crowdfunding'\n",
      " 'non_equity_assistance']\n"
     ]
    }
   ],
   "source": [
    "print(\"status:\\n\", master_frame.status.unique())\n",
    "print(\"\\nfunding_round_type:\\n\", master_frame.funding_round_type.unique())"
   ]
  },
  {
   "cell_type": "code",
   "execution_count": 22,
   "metadata": {},
   "outputs": [],
   "source": [
    "# Remove closed companies as we are not considering closed companies\n",
    "master_frame = master_frame[master_frame.status != \"closed\"]\n",
    "\n",
    "# Filter the funding types \"venture\", \"seed\", \"angel\", \"private_equity\" as we are interested in those only.\n",
    "interesting_funding_type = [\"venture\", \"seed\", \"angel\", \"private_equity\"]\n",
    "master_frame = master_frame[master_frame.funding_round_type.isin(interesting_funding_type)]"
   ]
  },
  {
   "cell_type": "markdown",
   "metadata": {},
   "source": [
    "#### Closed companies are not included in master_frame from this point onwards\n",
    "#### Only venture, seed, angel, private equity funding type recorsd are included in master_frame from this point onwards"
   ]
  },
  {
   "cell_type": "markdown",
   "metadata": {},
   "source": [
    "#### Applying constraints\n",
    "1. 5 to 15 million USD\n",
    "2. English-speaking countries"
   ]
  },
  {
   "cell_type": "code",
   "execution_count": 23,
   "metadata": {
    "scrolled": true
   },
   "outputs": [
    {
     "name": "stdout",
     "output_type": "stream",
     "text": [
      "master_frame shape after USD constraint: (16099, 7)\n",
      "Country codes in first 2 tables of wiki: 58\n",
      "-----------------------------------------\n",
      "['AUS', 'NZL', 'GBR', 'USA', 'ATG', 'BHS', 'BRB', 'BLZ', 'BWA', 'BDI', 'CMR', 'CAN', 'DMA', 'SWZ', 'FJI', 'GMB', 'GHA', 'GRD', 'GUY', 'IND', 'IRL', 'JAM', 'KEN', 'KIR', 'LSO', 'LBR', 'MWI', 'MLT', 'MHL', 'MUS', 'FSM', 'NAM', 'NRU', 'NGA', 'PAK', 'PLW', 'PNG', 'PHL', 'RWA', 'KNA', 'LCA', 'VCT', 'WSM', 'SYC', 'SLE', 'SGP', 'SLB', 'ZAF', 'SSD', 'SDN', 'TZA', 'TON', 'TTO', 'TUV', 'UGA', 'VUT', 'ZMB', 'ZWE', 'BH', 'BD', 'BN', 'KH', 'CY', 'ER', 'ET', 'IL', 'JO', 'KW', 'MY', 'MV', 'MM', 'OM', 'QA', 'LK', 'AE']\n",
      "-----------------------------------------\n",
      "Total country codes: 75\n",
      "-----------------------------------------\n",
      "master_frame shape after country constraints: (13408, 7)\n"
     ]
    }
   ],
   "source": [
    "#------------------------------------------------------------------\n",
    "# 1. 5 to 15 million USD\n",
    "#------------------------------------------------------------------\n",
    "master_frame = master_frame[(master_frame.raised_amount_usd >= 5000000) & (master_frame.raised_amount_usd <= 15000000)]\n",
    "print(\"master_frame shape after USD constraint:\", master_frame.shape)\n",
    "\n",
    "# Capture for later use\n",
    "#usd_constrained_mf = master_frame.copy()\n",
    "\n",
    "#------------------------------------------------------------------\n",
    "# 2. English-speaking countries\n",
    "#------------------------------------------------------------------\n",
    "# We need to scrape english speaking countries from wiki url\n",
    "# We use beautiful soup for this\n",
    "url = \"https://en.wikipedia.org/wiki/List_of_territorial_entities_where_English_is_an_official_language\"\n",
    "response = requests.get(url)\n",
    "soup = bs4.BeautifulSoup(response.text.replace(\"wikitable sortable\", \"wikitable_sortable\"), \"html5lib\")\n",
    "\n",
    "# Extract country codes from first 2 tables\n",
    "country_codes =[str(row.select('td')[1]).lstrip(\"<td>\").rstrip(\"\\n</td>\") for table in soup.find_all(name=\"table\", attrs={\"class\":\"wikitable_sortable\"})[0:2] for row in table.select('tr')[1:]]\n",
    "\n",
    "# The numbers might not add up as the numbering in wiki is flawed\n",
    "print(\"Country codes in first 2 tables of wiki:\", len(country_codes))\n",
    "\n",
    "# The 3 table has no country codes. So we fetch from by visiting every wiki dedicated to each country.\n",
    "# Probably these codes wont be useful because in countries table all country codes are of length\n",
    "more_country_codes = [\"BH\", \"BD\", \"BN\", \"KH\", \"CY\", \"ER\", \"ET\", \"IL\", \"JO\", \"KW\", \"MY\", \"MV\", \"MM\", \"OM\", \"QA\", \"LK\", \"AE\"]\n",
    "len(more_country_codes)\n",
    "final_country_codes = country_codes + more_country_codes\n",
    "print(\"-----------------------------------------\")\n",
    "print(final_country_codes)\n",
    "print(\"-----------------------------------------\")\n",
    "print(\"Total country codes:\", len(final_country_codes))\n",
    "# We ignore the the other tables as they are not countries\n",
    "\n",
    "# Filter the records in master_df with English speaking countries\n",
    "print(\"-----------------------------------------\")\n",
    "master_frame = master_frame[master_frame.country_code.isin(final_country_codes)]\n",
    "print(\"master_frame shape after country constraints:\", master_frame.shape)\n"
   ]
  },
  {
   "cell_type": "markdown",
   "metadata": {},
   "source": [
    "#### Constraints have been applied by this point:\n",
    "1. Only venture, private equity, angel and seed funding types \n",
    "2. 5 to 15 million USD\n",
    "3. English-speaking countries"
   ]
  },
  {
   "cell_type": "code",
   "execution_count": 24,
   "metadata": {},
   "outputs": [],
   "source": [
    "# TOUSE: Checkpoint 6\n",
    "cp6_master_frame = master_frame.copy()"
   ]
  },
  {
   "cell_type": "code",
   "execution_count": 25,
   "metadata": {
    "scrolled": true
   },
   "outputs": [
    {
     "name": "stdout",
     "output_type": "stream",
     "text": [
      "<class 'pandas.core.frame.DataFrame'>\n",
      "Int64Index: 13408 entries, 0 to 114936\n",
      "Data columns (total 7 columns):\n",
      "company_permalink     13408 non-null object\n",
      "name                  13408 non-null object\n",
      "category_list         13337 non-null object\n",
      "status                13408 non-null object\n",
      "country_code          13408 non-null object\n",
      "funding_round_type    13408 non-null object\n",
      "raised_amount_usd     13408 non-null float64\n",
      "dtypes: float64(1), object(6)\n",
      "memory usage: 838.0+ KB\n"
     ]
    }
   ],
   "source": [
    "master_frame.info()"
   ]
  },
  {
   "cell_type": "code",
   "execution_count": 26,
   "metadata": {
    "scrolled": true
   },
   "outputs": [
    {
     "data": {
      "text/plain": [
       "company_permalink      0\n",
       "name                   0\n",
       "category_list         71\n",
       "status                 0\n",
       "country_code           0\n",
       "funding_round_type     0\n",
       "raised_amount_usd      0\n",
       "dtype: int64"
      ]
     },
     "execution_count": 26,
     "metadata": {},
     "output_type": "execute_result"
    }
   ],
   "source": [
    "master_frame.isnull().sum()"
   ]
  },
  {
   "cell_type": "code",
   "execution_count": 27,
   "metadata": {},
   "outputs": [
    {
     "data": {
      "text/plain": [
       "company_permalink     0\n",
       "name                  0\n",
       "category_list         0\n",
       "status                0\n",
       "country_code          0\n",
       "funding_round_type    0\n",
       "raised_amount_usd     0\n",
       "dtype: int64"
      ]
     },
     "execution_count": 27,
     "metadata": {},
     "output_type": "execute_result"
    }
   ],
   "source": [
    "# category_list values cannot be imputed.\n",
    "# So we drop the rows where category_list is missing.\n",
    "master_frame = master_frame[~master_frame.category_list.isnull()]\n",
    "master_frame.isnull().sum()"
   ]
  },
  {
   "cell_type": "code",
   "execution_count": 28,
   "metadata": {
    "scrolled": true
   },
   "outputs": [
    {
     "data": {
      "image/png": "[encoded data removed]",
      "text/plain": [
       "<Figure size 648x360 with 1 Axes>"
      ]
     },
     "metadata": {
      "needs_background": "light"
     },
     "output_type": "display_data"
    }
   ],
   "source": [
    "funding_roundtype_countplot(master_frame)"
   ]
  },
  {
   "cell_type": "code",
   "execution_count": 29,
   "metadata": {
    "scrolled": false
   },
   "outputs": [
    {
     "data": {
      "image/png": "[encoded data removed]",
      "text/plain": [
       "<Figure size 648x360 with 1 Axes>"
      ]
     },
     "metadata": {
      "needs_background": "light"
     },
     "output_type": "display_data"
    }
   ],
   "source": [
    "funding_roundtype_totalfundingplot(master_frame)"
   ]
  },
  {
   "cell_type": "code",
   "execution_count": 30,
   "metadata": {
    "scrolled": false
   },
   "outputs": [
    {
     "data": {
      "image/png": "[encoded data removed]",
      "text/plain": [
       "<Figure size 648x360 with 1 Axes>"
      ]
     },
     "metadata": {
      "needs_background": "light"
     },
     "output_type": "display_data"
    }
   ],
   "source": [
    "funding_roundtype_fundsdistplot(master_frame)"
   ]
  },
  {
   "cell_type": "markdown",
   "metadata": {},
   "source": [
    "#### Observations after applying constraints\n",
    "- Number of rounds ranks\n",
    "    1. venture\n",
    "    2. private_equity\n",
    "    3. seed\n",
    "    4. angel\n",
    "- Total Funding ranks\n",
    "    1. venture \n",
    "    2. private_equity \n",
    "    3. seed\n",
    "    4. angel \n",
    "- Spread of fundings\n",
    "    - The __investments__ in the four funding types is __not evenly spread between 5-15 million USD__"
   ]
  },
  {
   "cell_type": "markdown",
   "metadata": {},
   "source": [
    "#### 1. Calculate the most representative value of the investment amount for each of the four funding types (venture, angel, seed, and private equity) and report the answers in Table 2.1"
   ]
  },
  {
   "cell_type": "code",
   "execution_count": 31,
   "metadata": {
    "scrolled": true
   },
   "outputs": [
    {
     "data": {
      "text/html": [
       "<div>\n",
       "<style scoped>\n",
       "    .dataframe tbody tr th:only-of-type {\n",
       "        vertical-align: middle;\n",
       "    }\n",
       "\n",
       "    .dataframe tbody tr th {\n",
       "        vertical-align: top;\n",
       "    }\n",
       "\n",
       "    .dataframe thead th {\n",
       "        text-align: right;\n",
       "    }\n",
       "</style>\n",
       "<table border=\"1\" class=\"dataframe\">\n",
       "  <thead>\n",
       "    <tr style=\"text-align: right;\">\n",
       "      <th></th>\n",
       "      <th>count</th>\n",
       "      <th>mean</th>\n",
       "      <th>std</th>\n",
       "      <th>min</th>\n",
       "      <th>25%</th>\n",
       "      <th>50%</th>\n",
       "      <th>75%</th>\n",
       "      <th>max</th>\n",
       "      <th>mean_median_diff</th>\n",
       "      <th>75_25_diff</th>\n",
       "      <th>mode</th>\n",
       "    </tr>\n",
       "    <tr>\n",
       "      <th>funding_round_type</th>\n",
       "      <th></th>\n",
       "      <th></th>\n",
       "      <th></th>\n",
       "      <th></th>\n",
       "      <th></th>\n",
       "      <th></th>\n",
       "      <th></th>\n",
       "      <th></th>\n",
       "      <th></th>\n",
       "      <th></th>\n",
       "      <th></th>\n",
       "    </tr>\n",
       "  </thead>\n",
       "  <tbody>\n",
       "    <tr>\n",
       "      <td>angel</td>\n",
       "      <td>42.0</td>\n",
       "      <td>7.166736e+06</td>\n",
       "      <td>2.503679e+06</td>\n",
       "      <td>5000000.0</td>\n",
       "      <td>5187500.0</td>\n",
       "      <td>6250000.0</td>\n",
       "      <td>7925000.0</td>\n",
       "      <td>15000000.0</td>\n",
       "      <td>9.167356e+05</td>\n",
       "      <td>2737500.0</td>\n",
       "      <td>5.000000e+06</td>\n",
       "    </tr>\n",
       "    <tr>\n",
       "      <td>private_equity</td>\n",
       "      <td>336.0</td>\n",
       "      <td>9.302575e+06</td>\n",
       "      <td>3.157642e+06</td>\n",
       "      <td>5000000.0</td>\n",
       "      <td>6111540.0</td>\n",
       "      <td>9488683.0</td>\n",
       "      <td>12000000.0</td>\n",
       "      <td>15000000.0</td>\n",
       "      <td>1.861081e+05</td>\n",
       "      <td>5888460.0</td>\n",
       "      <td>1.000000e+07</td>\n",
       "    </tr>\n",
       "    <tr>\n",
       "      <td>seed</td>\n",
       "      <td>162.0</td>\n",
       "      <td>6.474012e+06</td>\n",
       "      <td>1.940331e+06</td>\n",
       "      <td>5000000.0</td>\n",
       "      <td>5000000.0</td>\n",
       "      <td>5965737.5</td>\n",
       "      <td>6989550.0</td>\n",
       "      <td>15000000.0</td>\n",
       "      <td>5.082745e+05</td>\n",
       "      <td>1989550.0</td>\n",
       "      <td>5.000000e+06</td>\n",
       "    </tr>\n",
       "    <tr>\n",
       "      <td>venture</td>\n",
       "      <td>12797.0</td>\n",
       "      <td>8.919824e+06</td>\n",
       "      <td>3.069142e+06</td>\n",
       "      <td>5000000.0</td>\n",
       "      <td>6002724.0</td>\n",
       "      <td>8300000.0</td>\n",
       "      <td>11000000.0</td>\n",
       "      <td>15000000.0</td>\n",
       "      <td>6.198237e+05</td>\n",
       "      <td>4997276.0</td>\n",
       "      <td>1.000000e+07</td>\n",
       "    </tr>\n",
       "  </tbody>\n",
       "</table>\n",
       "</div>"
      ],
      "text/plain": [
       "                      count          mean           std        min        25%  \\\n",
       "funding_round_type                                                              \n",
       "angel                  42.0  7.166736e+06  2.503679e+06  5000000.0  5187500.0   \n",
       "private_equity        336.0  9.302575e+06  3.157642e+06  5000000.0  6111540.0   \n",
       "seed                  162.0  6.474012e+06  1.940331e+06  5000000.0  5000000.0   \n",
       "venture             12797.0  8.919824e+06  3.069142e+06  5000000.0  6002724.0   \n",
       "\n",
       "                          50%         75%         max mean_median_diff  \\\n",
       "funding_round_type                                                       \n",
       "angel               6250000.0   7925000.0  15000000.0     9.167356e+05   \n",
       "private_equity      9488683.0  12000000.0  15000000.0     1.861081e+05   \n",
       "seed                5965737.5   6989550.0  15000000.0     5.082745e+05   \n",
       "venture             8300000.0  11000000.0  15000000.0     6.198237e+05   \n",
       "\n",
       "                    75_25_diff          mode  \n",
       "funding_round_type                            \n",
       "angel                2737500.0  5.000000e+06  \n",
       "private_equity       5888460.0  1.000000e+07  \n",
       "seed                 1989550.0  5.000000e+06  \n",
       "venture              4997276.0  1.000000e+07  "
      ]
     },
     "execution_count": 31,
     "metadata": {},
     "output_type": "execute_result"
    }
   ],
   "source": [
    "funding_type_group = master_frame.groupby('funding_round_type')\n",
    "funding_analysis = funding_type_group[\"raised_amount_usd\"].describe()\n",
    "funding_analysis[\"mean_median_diff\"] = (funding_analysis[\"mean\"] - funding_analysis[\"50%\"]).apply(lambda x: abs(x))\n",
    "funding_analysis[\"mean_median_diff\"] = funding_analysis[\"mean_median_diff\"].apply(lambda x: \"{:e}\".format(round(x, 1)))\n",
    "funding_analysis[\"75_25_diff\"] = funding_analysis[\"75%\"] - funding_analysis[\"25%\"]\n",
    "funding_analysis[\"mode\"] = funding_type_group[\"raised_amount_usd\"].agg(lambda x: x.mode())\n",
    "funding_analysis[\"mode\"] = funding_analysis[\"mode\"].apply(lambda x: \"{:e}\".format(x))\n",
    "funding_analysis"
   ]
  },
  {
   "cell_type": "markdown",
   "metadata": {},
   "source": [
    "### Angel:\n",
    "- __Lowest Frequency(Less investors)__: 42\n",
    "- __Lowest Total Funding(Less investors)__\n",
    "- Majority of values below 79,25,000 which is the 75 percentile which is much less than the max value of 1,50,00,000\n",
    "- So __median__ is a good choice\n",
    "- __Representative value:__ 62,50,000\n"
   ]
  },
  {
   "cell_type": "markdown",
   "metadata": {},
   "source": [
    "### Private Equity:\n",
    "- __Second Highest Frequency(Decent amount of investors)__: 337\n",
    "- __Second Highest Funding(Decent amount of investors)__\n",
    "- Majority of values below 1,20,00,000 which is the 75 percentile which is less than the max value of 1,50,00,000\n",
    "- So __median__ is a good choice\n",
    "- __Representative value:__ 94,88,683 ~ 94,00,000"
   ]
  },
  {
   "cell_type": "markdown",
   "metadata": {},
   "source": [
    "### Seed: \n",
    "- __Third Highest Frequency(Fairly low investors)__ \n",
    "- __Third Highest Funding(Fairly low investors)__\n",
    "- Majority of values below 69,89,550 which is the 75 percentile which is much less than the max value of 1,50,00,000\n",
    "- So __median__ is a good choice\n",
    "- __Representative value:__ 5965737 ~ 59,00,000"
   ]
  },
  {
   "cell_type": "markdown",
   "metadata": {},
   "source": [
    "### Venture:\n",
    "- __Highest Frequency(Max investors)__: 12866\n",
    "- __Highest Funding(Max investors)__\n",
    "- Majority of values below 1,10,00,000 which is the 75 percentile which is less than the max value of 1,50,00,000\n",
    "- So __median__ is a good choice\n",
    "- __Representative value:__ 83,00,000\n",
    "\n"
   ]
  },
  {
   "cell_type": "markdown",
   "metadata": {},
   "source": [
    "\n",
    "#### 2. Based on the most representative investment amount calculated above, which investment type do you think is the most suitable for Spark Funds?"
   ]
  },
  {
   "cell_type": "markdown",
   "metadata": {},
   "source": [
    "- By count __venture__ followed by __private equity__ have the max rounds of funding.\n",
    "- Also the representative values for __venture__ and __private equity__ is __83,00,000__ and __94,00,000__ respectively which are __between the companies constraint of the amount range 5-15 million__.\n",
    "- So considering the points above we choose __Venture__ as the type to invest in for Spark Funds.\n",
    "- Investment type suitable for Spark Funds: __Venture__"
   ]
  },
  {
   "cell_type": "code",
   "execution_count": 32,
   "metadata": {},
   "outputs": [
    {
     "data": {
      "text/html": [
       "<div>\n",
       "<style scoped>\n",
       "    .dataframe tbody tr th:only-of-type {\n",
       "        vertical-align: middle;\n",
       "    }\n",
       "\n",
       "    .dataframe tbody tr th {\n",
       "        vertical-align: top;\n",
       "    }\n",
       "\n",
       "    .dataframe thead th {\n",
       "        text-align: right;\n",
       "    }\n",
       "</style>\n",
       "<table border=\"1\" class=\"dataframe\">\n",
       "  <thead>\n",
       "    <tr style=\"text-align: right;\">\n",
       "      <th></th>\n",
       "      <th>company_permalink</th>\n",
       "      <th>name</th>\n",
       "      <th>category_list</th>\n",
       "      <th>status</th>\n",
       "      <th>country_code</th>\n",
       "      <th>funding_round_type</th>\n",
       "      <th>raised_amount_usd</th>\n",
       "    </tr>\n",
       "  </thead>\n",
       "  <tbody>\n",
       "    <tr>\n",
       "      <td>38277</td>\n",
       "      <td>/organization/fuzzy-logix</td>\n",
       "      <td>Fuzzy Logix</td>\n",
       "      <td>Software</td>\n",
       "      <td>operating</td>\n",
       "      <td>USA</td>\n",
       "      <td>venture</td>\n",
       "      <td>5500000.0</td>\n",
       "    </tr>\n",
       "    <tr>\n",
       "      <td>1410</td>\n",
       "      <td>/organization/accelecare</td>\n",
       "      <td>AcceleCare Wound Centers</td>\n",
       "      <td>Health Care|Hospitals|Medical</td>\n",
       "      <td>acquired</td>\n",
       "      <td>USA</td>\n",
       "      <td>venture</td>\n",
       "      <td>10000000.0</td>\n",
       "    </tr>\n",
       "    <tr>\n",
       "      <td>106515</td>\n",
       "      <td>/organization/verisilicon-holdings</td>\n",
       "      <td>VeriSilicon Holdings</td>\n",
       "      <td>Cloud Computing|Manufacturing</td>\n",
       "      <td>operating</td>\n",
       "      <td>USA</td>\n",
       "      <td>venture</td>\n",
       "      <td>7999998.0</td>\n",
       "    </tr>\n",
       "  </tbody>\n",
       "</table>\n",
       "</div>"
      ],
      "text/plain": [
       "                         company_permalink                      name  \\\n",
       "38277            /organization/fuzzy-logix               Fuzzy Logix   \n",
       "1410              /organization/accelecare  AcceleCare Wound Centers   \n",
       "106515  /organization/verisilicon-holdings      VeriSilicon Holdings   \n",
       "\n",
       "                        category_list     status country_code  \\\n",
       "38277                        Software  operating          USA   \n",
       "1410    Health Care|Hospitals|Medical   acquired          USA   \n",
       "106515  Cloud Computing|Manufacturing  operating          USA   \n",
       "\n",
       "       funding_round_type  raised_amount_usd  \n",
       "38277             venture          5500000.0  \n",
       "1410              venture         10000000.0  \n",
       "106515            venture          7999998.0  "
      ]
     },
     "execution_count": 32,
     "metadata": {},
     "output_type": "execute_result"
    }
   ],
   "source": [
    "# As we have selected venture funding lets filter for the same\n",
    "venture_master_frame = master_frame[master_frame.funding_round_type == \"venture\"]\n",
    "venture_master_frame.sample(3)"
   ]
  },
  {
   "cell_type": "code",
   "execution_count": 33,
   "metadata": {
    "scrolled": false
   },
   "outputs": [
    {
     "data": {
      "text/html": [
       "<div>\n",
       "<style scoped>\n",
       "    .dataframe tbody tr th:only-of-type {\n",
       "        vertical-align: middle;\n",
       "    }\n",
       "\n",
       "    .dataframe tbody tr th {\n",
       "        vertical-align: top;\n",
       "    }\n",
       "\n",
       "    .dataframe thead th {\n",
       "        text-align: right;\n",
       "    }\n",
       "</style>\n",
       "<table border=\"1\" class=\"dataframe\">\n",
       "  <thead>\n",
       "    <tr style=\"text-align: right;\">\n",
       "      <th></th>\n",
       "      <th>company_permalink</th>\n",
       "      <th>name</th>\n",
       "      <th>category_list</th>\n",
       "      <th>status</th>\n",
       "      <th>country_code</th>\n",
       "      <th>raised_amount_usd</th>\n",
       "    </tr>\n",
       "  </thead>\n",
       "  <tbody>\n",
       "    <tr>\n",
       "      <td>8581</td>\n",
       "      <td>/organization/attachstor</td>\n",
       "      <td>AttachSTOR</td>\n",
       "      <td>Information Technology|Services</td>\n",
       "      <td>operating</td>\n",
       "      <td>USA</td>\n",
       "      <td>7500000.0</td>\n",
       "    </tr>\n",
       "    <tr>\n",
       "      <td>52394</td>\n",
       "      <td>/organization/kdw</td>\n",
       "      <td>KDW</td>\n",
       "      <td>Business Services|Consulting|Finance</td>\n",
       "      <td>operating</td>\n",
       "      <td>USA</td>\n",
       "      <td>6800000.0</td>\n",
       "    </tr>\n",
       "    <tr>\n",
       "      <td>108254</td>\n",
       "      <td>/organization/vizu</td>\n",
       "      <td>Vizu Corporation</td>\n",
       "      <td>Advertising</td>\n",
       "      <td>acquired</td>\n",
       "      <td>USA</td>\n",
       "      <td>6750000.0</td>\n",
       "    </tr>\n",
       "  </tbody>\n",
       "</table>\n",
       "</div>"
      ],
      "text/plain": [
       "               company_permalink              name  \\\n",
       "8581    /organization/attachstor        AttachSTOR   \n",
       "52394          /organization/kdw               KDW   \n",
       "108254        /organization/vizu  Vizu Corporation   \n",
       "\n",
       "                               category_list     status country_code  \\\n",
       "8581         Information Technology|Services  operating          USA   \n",
       "52394   Business Services|Consulting|Finance  operating          USA   \n",
       "108254                           Advertising   acquired          USA   \n",
       "\n",
       "        raised_amount_usd  \n",
       "8581            7500000.0  \n",
       "52394           6800000.0  \n",
       "108254          6750000.0  "
      ]
     },
     "execution_count": 33,
     "metadata": {},
     "output_type": "execute_result"
    }
   ],
   "source": [
    "# We can drop the funding_round_type now as it only consists of venture funding\n",
    "venture_master_frame = venture_master_frame.iloc[:, ~(venture_master_frame.columns == \"funding_round_type\")]\n",
    "venture_master_frame.sample(3)"
   ]
  },
  {
   "cell_type": "code",
   "execution_count": 34,
   "metadata": {},
   "outputs": [
    {
     "data": {
      "text/plain": [
       "(13337, 7)"
      ]
     },
     "execution_count": 34,
     "metadata": {},
     "output_type": "execute_result"
    }
   ],
   "source": [
    "master_frame.shape"
   ]
  },
  {
   "cell_type": "code",
   "execution_count": 35,
   "metadata": {},
   "outputs": [
    {
     "data": {
      "text/plain": [
       "(12797, 6)"
      ]
     },
     "execution_count": 35,
     "metadata": {},
     "output_type": "execute_result"
    }
   ],
   "source": [
    "venture_master_frame.shape"
   ]
  },
  {
   "cell_type": "markdown",
   "metadata": {},
   "source": [
    "## Summary Checkpoint 2: Funding Type Analysis\n",
    "1. Removed closed companies.\n",
    "2. Filtered data frame to include on the funding types: \"venture\", \"seed\", \"angel\", \"private_equity\".\n",
    "3. Applied constraints and did the analysis.\n",
    "5. Identified __Venture__ as the funding type to invest in.\n",
    "\n",
    "__Representative Values of investments__:\n",
    "- angel:          62,50,000\n",
    "- private equity: 94,00,000\n",
    "- seed:           59,00,000\n",
    "- venture:        83,00,000\n",
    "\n",
    "### master_frame shape: (13337, 7)\n",
    "### venture_master_frame: (12797, 6)"
   ]
  },
  {
   "cell_type": "markdown",
   "metadata": {},
   "source": [
    "-------------------------------------------------------------------\n",
    "-------------------------------------------------------------------\n",
    "# Checkpoint 3: Country Analysis\n",
    "1. Spark Funds wants to see the top nine countries which have received the highest total funding (across ALL sectors for the chosen investment type)\n",
    "2. For the chosen investment type, make a data frame named top9 with the top nine countries (based on the total investment amount each country has received) \n",
    "\n",
    "__Identify the top three English-speaking countries in the data frame top9.__"
   ]
  },
  {
   "cell_type": "markdown",
   "metadata": {},
   "source": [
    "\n",
    "#### 1. Spark Funds wants to see the top nine countries which have received the highest total funding (across ALL sectors for the chosen investment type)"
   ]
  },
  {
   "cell_type": "code",
   "execution_count": 36,
   "metadata": {},
   "outputs": [
    {
     "data": {
      "image/png": "[encoded data removed]",
      "text/plain": [
       "<Figure size 1224x432 with 1 Axes>"
      ]
     },
     "metadata": {
      "needs_background": "light"
     },
     "output_type": "display_data"
    }
   ],
   "source": [
    "countries_totalfunding = venture_master_frame.groupby(\"country_code\")[\"raised_amount_usd\"].sum()\n",
    "top9_countries_totalfunding = countries_totalfunding.sort_values(ascending=False)[:9]\n",
    "\n",
    "fig, ax = plt.subplots(figsize=[17,6])\n",
    "splot = sns.barplot(top9_countries_totalfunding.index, top9_countries_totalfunding.values, orient=\"V\")\n",
    "plt.title(\"Total venture funding in top 9 countries\", fontsize=fontsize_title)\n",
    "plt.ylabel(\"Total funding in USD\", fontsize=fontsize_axislabel)\n",
    "plt.xlabel(\"Countries\", fontsize=fontsize_axislabel)\n",
    "\n",
    "for p in splot.patches:\n",
    "    height = int(p.get_height())\n",
    "    heightstr = \"$ {:,}\".format(height)\n",
    "\n",
    "    splot.annotate(heightstr, \n",
    "                   (p.get_x() + p.get_width() / 2., p.get_height()), \n",
    "                   ha = 'center', va = 'center', \n",
    "                   xytext = (0, 9), \n",
    "                   textcoords = 'offset points')\n",
    "\n",
    "if create_images:\n",
    "    plt.savefig(imagefolderpath+'/Top9_totalventurefunding.png', bbox_inches='tight')\n",
    "else:\n",
    "    plt.show()"
   ]
  },
  {
   "cell_type": "markdown",
   "metadata": {},
   "source": [
    "#### 2. For the chosen investment type, make a data frame named top9 with the top nine countries (based on the total investment amount each country has received) "
   ]
  },
  {
   "cell_type": "code",
   "execution_count": 37,
   "metadata": {
    "scrolled": true
   },
   "outputs": [
    {
     "data": {
      "text/html": [
       "<div>\n",
       "<style scoped>\n",
       "    .dataframe tbody tr th:only-of-type {\n",
       "        vertical-align: middle;\n",
       "    }\n",
       "\n",
       "    .dataframe tbody tr th {\n",
       "        vertical-align: top;\n",
       "    }\n",
       "\n",
       "    .dataframe thead th {\n",
       "        text-align: right;\n",
       "    }\n",
       "</style>\n",
       "<table border=\"1\" class=\"dataframe\">\n",
       "  <thead>\n",
       "    <tr style=\"text-align: right;\">\n",
       "      <th></th>\n",
       "      <th>total_funding_usd</th>\n",
       "    </tr>\n",
       "    <tr>\n",
       "      <th>country_code</th>\n",
       "      <th></th>\n",
       "    </tr>\n",
       "  </thead>\n",
       "  <tbody>\n",
       "    <tr>\n",
       "      <td>USA</td>\n",
       "      <td>1.010102e+11</td>\n",
       "    </tr>\n",
       "    <tr>\n",
       "      <td>GBR</td>\n",
       "      <td>5.053293e+09</td>\n",
       "    </tr>\n",
       "    <tr>\n",
       "      <td>CAN</td>\n",
       "      <td>3.305755e+09</td>\n",
       "    </tr>\n",
       "    <tr>\n",
       "      <td>IND</td>\n",
       "      <td>2.820674e+09</td>\n",
       "    </tr>\n",
       "    <tr>\n",
       "      <td>SGP</td>\n",
       "      <td>6.310370e+08</td>\n",
       "    </tr>\n",
       "    <tr>\n",
       "      <td>IRL</td>\n",
       "      <td>4.983556e+08</td>\n",
       "    </tr>\n",
       "    <tr>\n",
       "      <td>AUS</td>\n",
       "      <td>4.899897e+08</td>\n",
       "    </tr>\n",
       "    <tr>\n",
       "      <td>NZL</td>\n",
       "      <td>8.957262e+07</td>\n",
       "    </tr>\n",
       "    <tr>\n",
       "      <td>NGA</td>\n",
       "      <td>7.600000e+07</td>\n",
       "    </tr>\n",
       "  </tbody>\n",
       "</table>\n",
       "</div>"
      ],
      "text/plain": [
       "              total_funding_usd\n",
       "country_code                   \n",
       "USA                1.010102e+11\n",
       "GBR                5.053293e+09\n",
       "CAN                3.305755e+09\n",
       "IND                2.820674e+09\n",
       "SGP                6.310370e+08\n",
       "IRL                4.983556e+08\n",
       "AUS                4.899897e+08\n",
       "NZL                8.957262e+07\n",
       "NGA                7.600000e+07"
      ]
     },
     "execution_count": 37,
     "metadata": {},
     "output_type": "execute_result"
    }
   ],
   "source": [
    "top9 = pd.DataFrame(index=top9_countries_totalfunding.index)\n",
    "top9[\"total_funding_usd\"] = top9_countries_totalfunding.values\n",
    "top9"
   ]
  },
  {
   "cell_type": "markdown",
   "metadata": {},
   "source": [
    "#### Table 3.1:\n",
    "#### Identify the top three English-speaking countries in the data frame top9."
   ]
  },
  {
   "cell_type": "code",
   "execution_count": 38,
   "metadata": {},
   "outputs": [
    {
     "data": {
      "text/html": [
       "<div>\n",
       "<style scoped>\n",
       "    .dataframe tbody tr th:only-of-type {\n",
       "        vertical-align: middle;\n",
       "    }\n",
       "\n",
       "    .dataframe tbody tr th {\n",
       "        vertical-align: top;\n",
       "    }\n",
       "\n",
       "    .dataframe thead th {\n",
       "        text-align: right;\n",
       "    }\n",
       "</style>\n",
       "<table border=\"1\" class=\"dataframe\">\n",
       "  <thead>\n",
       "    <tr style=\"text-align: right;\">\n",
       "      <th></th>\n",
       "      <th>total_funding_usd</th>\n",
       "    </tr>\n",
       "    <tr>\n",
       "      <th>country_code</th>\n",
       "      <th></th>\n",
       "    </tr>\n",
       "  </thead>\n",
       "  <tbody>\n",
       "    <tr>\n",
       "      <td>USA</td>\n",
       "      <td>1.010102e+11</td>\n",
       "    </tr>\n",
       "    <tr>\n",
       "      <td>GBR</td>\n",
       "      <td>5.053293e+09</td>\n",
       "    </tr>\n",
       "    <tr>\n",
       "      <td>CAN</td>\n",
       "      <td>3.305755e+09</td>\n",
       "    </tr>\n",
       "  </tbody>\n",
       "</table>\n",
       "</div>"
      ],
      "text/plain": [
       "              total_funding_usd\n",
       "country_code                   \n",
       "USA                1.010102e+11\n",
       "GBR                5.053293e+09\n",
       "CAN                3.305755e+09"
      ]
     },
     "execution_count": 38,
     "metadata": {},
     "output_type": "execute_result"
    }
   ],
   "source": [
    "top9.iloc[:3]"
   ]
  },
  {
   "cell_type": "code",
   "execution_count": 39,
   "metadata": {},
   "outputs": [
    {
     "data": {
      "text/plain": [
       "(13337, 7)"
      ]
     },
     "execution_count": 39,
     "metadata": {},
     "output_type": "execute_result"
    }
   ],
   "source": [
    "master_frame.shape"
   ]
  },
  {
   "cell_type": "code",
   "execution_count": 40,
   "metadata": {},
   "outputs": [
    {
     "data": {
      "text/plain": [
       "(12797, 6)"
      ]
     },
     "execution_count": 40,
     "metadata": {},
     "output_type": "execute_result"
    }
   ],
   "source": [
    "venture_master_frame.shape"
   ]
  },
  {
   "cell_type": "markdown",
   "metadata": {},
   "source": [
    "## Summary Checkpoint 3: Country Analysis\n",
    "1. Plotted graph of countries with top 9 total funding.\n",
    "2. Created __top9__ dataframe of countries with top 9 total investments.\n",
    "3. Identified top three English-speaking countries in the data frame top9: __USA__, __GRB__, __CAN__\n",
    "\n",
    "### master_frame shape: (13337, 7)\n",
    "### venture_master_frame: (12797, 6)"
   ]
  },
  {
   "cell_type": "markdown",
   "metadata": {},
   "source": [
    "-------------------------------------------------------------------\n",
    "-------------------------------------------------------------------\n",
    "# Checkpoint 4: Sector Analysis 1\n"
   ]
  },
  {
   "cell_type": "code",
   "execution_count": 41,
   "metadata": {},
   "outputs": [],
   "source": [
    "def extractprimarysectorin(df):\n",
    "    \"\"\"\n",
    "    Function to extract primary_sector from category_list column in the dataframe passed\n",
    "    as the parameter\n",
    "    \"\"\"\n",
    "    # Find the number of missing values\n",
    "    category_list_isnull = df.category_list.isnull()\n",
    "    category_list_nullcount = category_list_isnull.sum()\n",
    "\n",
    "    if category_list_nullcount > 0:\n",
    "        # Remove rows with category_list null\n",
    "        df = df[~category_list_isnull]\n",
    "    \n",
    "    # Applying the business rule discussed with CEO to create primary_sector\n",
    "    df[\"primary_sector\"] = df.category_list.apply(lambda x: x.split(\"|\")[0])"
   ]
  },
  {
   "cell_type": "markdown",
   "metadata": {},
   "source": [
    "#### 1. Extract the primary sector of each category list from the category_list column"
   ]
  },
  {
   "cell_type": "code",
   "execution_count": 42,
   "metadata": {
    "scrolled": false
   },
   "outputs": [
    {
     "data": {
      "text/html": [
       "<div>\n",
       "<style scoped>\n",
       "    .dataframe tbody tr th:only-of-type {\n",
       "        vertical-align: middle;\n",
       "    }\n",
       "\n",
       "    .dataframe tbody tr th {\n",
       "        vertical-align: top;\n",
       "    }\n",
       "\n",
       "    .dataframe thead th {\n",
       "        text-align: right;\n",
       "    }\n",
       "</style>\n",
       "<table border=\"1\" class=\"dataframe\">\n",
       "  <thead>\n",
       "    <tr style=\"text-align: right;\">\n",
       "      <th></th>\n",
       "      <th>company_permalink</th>\n",
       "      <th>name</th>\n",
       "      <th>category_list</th>\n",
       "      <th>status</th>\n",
       "      <th>country_code</th>\n",
       "      <th>raised_amount_usd</th>\n",
       "      <th>primary_sector</th>\n",
       "    </tr>\n",
       "  </thead>\n",
       "  <tbody>\n",
       "    <tr>\n",
       "      <td>70934</td>\n",
       "      <td>/organization/open-mile</td>\n",
       "      <td>Open Mile</td>\n",
       "      <td>Automotive|Enterprise Software|Shipping|Softwa...</td>\n",
       "      <td>acquired</td>\n",
       "      <td>USA</td>\n",
       "      <td>6000000.0</td>\n",
       "      <td>Automotive</td>\n",
       "    </tr>\n",
       "    <tr>\n",
       "      <td>112416</td>\n",
       "      <td>/organization/xstream-systems</td>\n",
       "      <td>XStream Systems</td>\n",
       "      <td>Hardware + Software</td>\n",
       "      <td>operating</td>\n",
       "      <td>USA</td>\n",
       "      <td>6305369.0</td>\n",
       "      <td>Hardware + Software</td>\n",
       "    </tr>\n",
       "    <tr>\n",
       "      <td>50135</td>\n",
       "      <td>/organization/irvine-sensors-corporation</td>\n",
       "      <td>Irvine Sensors Corporation</td>\n",
       "      <td>Nanotechnology</td>\n",
       "      <td>operating</td>\n",
       "      <td>USA</td>\n",
       "      <td>5140000.0</td>\n",
       "      <td>Nanotechnology</td>\n",
       "    </tr>\n",
       "  </tbody>\n",
       "</table>\n",
       "</div>"
      ],
      "text/plain": [
       "                               company_permalink                        name  \\\n",
       "70934                    /organization/open-mile                   Open Mile   \n",
       "112416             /organization/xstream-systems             XStream Systems   \n",
       "50135   /organization/irvine-sensors-corporation  Irvine Sensors Corporation   \n",
       "\n",
       "                                            category_list     status  \\\n",
       "70934   Automotive|Enterprise Software|Shipping|Softwa...   acquired   \n",
       "112416                                Hardware + Software  operating   \n",
       "50135                                      Nanotechnology  operating   \n",
       "\n",
       "       country_code  raised_amount_usd       primary_sector  \n",
       "70934           USA          6000000.0           Automotive  \n",
       "112416          USA          6305369.0  Hardware + Software  \n",
       "50135           USA          5140000.0       Nanotechnology  "
      ]
     },
     "execution_count": 42,
     "metadata": {},
     "output_type": "execute_result"
    }
   ],
   "source": [
    "extractprimarysectorin(venture_master_frame)\n",
    "venture_master_frame.sample(3)"
   ]
  },
  {
   "cell_type": "code",
   "execution_count": 43,
   "metadata": {},
   "outputs": [
    {
     "data": {
      "text/html": [
       "<div>\n",
       "<style scoped>\n",
       "    .dataframe tbody tr th:only-of-type {\n",
       "        vertical-align: middle;\n",
       "    }\n",
       "\n",
       "    .dataframe tbody tr th {\n",
       "        vertical-align: top;\n",
       "    }\n",
       "\n",
       "    .dataframe thead th {\n",
       "        text-align: right;\n",
       "    }\n",
       "</style>\n",
       "<table border=\"1\" class=\"dataframe\">\n",
       "  <thead>\n",
       "    <tr style=\"text-align: right;\">\n",
       "      <th></th>\n",
       "      <th>company_permalink</th>\n",
       "      <th>name</th>\n",
       "      <th>status</th>\n",
       "      <th>country_code</th>\n",
       "      <th>raised_amount_usd</th>\n",
       "      <th>primary_sector</th>\n",
       "    </tr>\n",
       "  </thead>\n",
       "  <tbody>\n",
       "    <tr>\n",
       "      <td>22456</td>\n",
       "      <td>/organization/compete</td>\n",
       "      <td>Compete</td>\n",
       "      <td>acquired</td>\n",
       "      <td>USA</td>\n",
       "      <td>6000000.0</td>\n",
       "      <td>Advertising</td>\n",
       "    </tr>\n",
       "    <tr>\n",
       "      <td>45346</td>\n",
       "      <td>/organization/hydration-labs</td>\n",
       "      <td>Hydration Labs</td>\n",
       "      <td>operating</td>\n",
       "      <td>USA</td>\n",
       "      <td>6246962.0</td>\n",
       "      <td>Clean Technology</td>\n",
       "    </tr>\n",
       "    <tr>\n",
       "      <td>71558</td>\n",
       "      <td>/organization/orbotix</td>\n",
       "      <td>Sphero</td>\n",
       "      <td>operating</td>\n",
       "      <td>USA</td>\n",
       "      <td>5000000.0</td>\n",
       "      <td>Android</td>\n",
       "    </tr>\n",
       "  </tbody>\n",
       "</table>\n",
       "</div>"
      ],
      "text/plain": [
       "                  company_permalink            name     status country_code  \\\n",
       "22456         /organization/compete         Compete   acquired          USA   \n",
       "45346  /organization/hydration-labs  Hydration Labs  operating          USA   \n",
       "71558         /organization/orbotix          Sphero  operating          USA   \n",
       "\n",
       "       raised_amount_usd    primary_sector  \n",
       "22456          6000000.0       Advertising  \n",
       "45346          6246962.0  Clean Technology  \n",
       "71558          5000000.0           Android  "
      ]
     },
     "execution_count": 43,
     "metadata": {},
     "output_type": "execute_result"
    }
   ],
   "source": [
    "# Remove category_list column as its not required anymore\n",
    "venture_master_frame = venture_master_frame.iloc[:, ~(venture_master_frame.columns == \"category_list\")]\n",
    "venture_master_frame.sample(3)"
   ]
  },
  {
   "cell_type": "markdown",
   "metadata": {},
   "source": [
    "#### Loading mapping dataframe"
   ]
  },
  {
   "cell_type": "code",
   "execution_count": 44,
   "metadata": {},
   "outputs": [
    {
     "name": "stdout",
     "output_type": "stream",
     "text": [
      "<class 'pandas.core.frame.DataFrame'>\n",
      "RangeIndex: 688 entries, 0 to 687\n",
      "Data columns (total 10 columns):\n",
      "category_list                              687 non-null object\n",
      "Automotive & Sports                        688 non-null int64\n",
      "Blanks                                     688 non-null int64\n",
      "Cleantech / Semiconductors                 688 non-null int64\n",
      "Entertainment                              688 non-null int64\n",
      "Health                                     688 non-null int64\n",
      "Manufacturing                              688 non-null int64\n",
      "News, Search and Messaging                 688 non-null int64\n",
      "Others                                     688 non-null int64\n",
      "Social, Finance, Analytics, Advertising    688 non-null int64\n",
      "dtypes: int64(9), object(1)\n",
      "memory usage: 53.9+ KB\n"
     ]
    }
   ],
   "source": [
    "mapping = pd.read_csv(\"mapping.csv\")\n",
    "mapping.info()"
   ]
  },
  {
   "cell_type": "code",
   "execution_count": 45,
   "metadata": {},
   "outputs": [
    {
     "data": {
      "text/html": [
       "<div>\n",
       "<style scoped>\n",
       "    .dataframe tbody tr th:only-of-type {\n",
       "        vertical-align: middle;\n",
       "    }\n",
       "\n",
       "    .dataframe tbody tr th {\n",
       "        vertical-align: top;\n",
       "    }\n",
       "\n",
       "    .dataframe thead th {\n",
       "        text-align: right;\n",
       "    }\n",
       "</style>\n",
       "<table border=\"1\" class=\"dataframe\">\n",
       "  <thead>\n",
       "    <tr style=\"text-align: right;\">\n",
       "      <th></th>\n",
       "      <th>category_list</th>\n",
       "      <th>Automotive &amp; Sports</th>\n",
       "      <th>Blanks</th>\n",
       "      <th>Cleantech / Semiconductors</th>\n",
       "      <th>Entertainment</th>\n",
       "      <th>Health</th>\n",
       "      <th>Manufacturing</th>\n",
       "      <th>News, Search and Messaging</th>\n",
       "      <th>Others</th>\n",
       "      <th>Social, Finance, Analytics, Advertising</th>\n",
       "    </tr>\n",
       "  </thead>\n",
       "  <tbody>\n",
       "    <tr>\n",
       "      <td>512</td>\n",
       "      <td>Peer-to-Peer</td>\n",
       "      <td>0</td>\n",
       "      <td>0</td>\n",
       "      <td>0</td>\n",
       "      <td>0</td>\n",
       "      <td>0</td>\n",
       "      <td>0</td>\n",
       "      <td>1</td>\n",
       "      <td>0</td>\n",
       "      <td>0</td>\n",
       "    </tr>\n",
       "  </tbody>\n",
       "</table>\n",
       "</div>"
      ],
      "text/plain": [
       "    category_list  Automotive & Sports  Blanks  Cleantech / Semiconductors  \\\n",
       "512  Peer-to-Peer                    0       0                           0   \n",
       "\n",
       "     Entertainment  Health  Manufacturing  News, Search and Messaging  Others  \\\n",
       "512              0       0              0                           1       0   \n",
       "\n",
       "     Social, Finance, Analytics, Advertising  \n",
       "512                                        0  "
      ]
     },
     "execution_count": 45,
     "metadata": {},
     "output_type": "execute_result"
    }
   ],
   "source": [
    "mapping.sample()"
   ]
  },
  {
   "cell_type": "markdown",
   "metadata": {},
   "source": [
    "#### 2. Use the mapping file 'mapping.csv' to map each primary sector to one of the eight main sectors (Note that ‘Others’ is also considered one of the main sectors)"
   ]
  },
  {
   "cell_type": "code",
   "execution_count": 46,
   "metadata": {},
   "outputs": [
    {
     "name": "stdout",
     "output_type": "stream",
     "text": [
      "Each row has only one sector set to 1 rest are set to 0\n"
     ]
    }
   ],
   "source": [
    "# For mapping dataframe check if multiple sectors in a row have 1 or not\n",
    "sum_all_1s = mapping.iloc[:, 1:].sum(axis=1).sum()\n",
    "sum_all_1s_equals_row_count = (sum_all_1s == mapping.shape[0])\n",
    "if sum_all_1s_equals_row_count:\n",
    "    print(\"Each row has only one sector set to 1 rest are set to 0\")\n",
    "else:\n",
    "    print(\"Rows might have more then once sector set to 1\")"
   ]
  },
  {
   "cell_type": "markdown",
   "metadata": {},
   "source": [
    "#### As a result of the above test it can be assumed that only one of the sectors in a row has 1 and rest have 0. So a company has only one main sector."
   ]
  },
  {
   "cell_type": "code",
   "execution_count": 47,
   "metadata": {},
   "outputs": [
    {
     "data": {
      "text/html": [
       "<div>\n",
       "<style scoped>\n",
       "    .dataframe tbody tr th:only-of-type {\n",
       "        vertical-align: middle;\n",
       "    }\n",
       "\n",
       "    .dataframe tbody tr th {\n",
       "        vertical-align: top;\n",
       "    }\n",
       "\n",
       "    .dataframe thead th {\n",
       "        text-align: right;\n",
       "    }\n",
       "</style>\n",
       "<table border=\"1\" class=\"dataframe\">\n",
       "  <thead>\n",
       "    <tr style=\"text-align: right;\">\n",
       "      <th></th>\n",
       "      <th>category_list</th>\n",
       "      <th>Automotive &amp; Sports</th>\n",
       "      <th>Cleantech / Semiconductors</th>\n",
       "      <th>Entertainment</th>\n",
       "      <th>Health</th>\n",
       "      <th>Manufacturing</th>\n",
       "      <th>News, Search and Messaging</th>\n",
       "      <th>Others</th>\n",
       "      <th>Social, Finance, Analytics, Advertising</th>\n",
       "    </tr>\n",
       "  </thead>\n",
       "  <tbody>\n",
       "    <tr>\n",
       "      <td>1</td>\n",
       "      <td>3D</td>\n",
       "      <td>0</td>\n",
       "      <td>0</td>\n",
       "      <td>0</td>\n",
       "      <td>0</td>\n",
       "      <td>1</td>\n",
       "      <td>0</td>\n",
       "      <td>0</td>\n",
       "      <td>0</td>\n",
       "    </tr>\n",
       "    <tr>\n",
       "      <td>2</td>\n",
       "      <td>3D Printing</td>\n",
       "      <td>0</td>\n",
       "      <td>0</td>\n",
       "      <td>0</td>\n",
       "      <td>0</td>\n",
       "      <td>1</td>\n",
       "      <td>0</td>\n",
       "      <td>0</td>\n",
       "      <td>0</td>\n",
       "    </tr>\n",
       "    <tr>\n",
       "      <td>3</td>\n",
       "      <td>3D Technology</td>\n",
       "      <td>0</td>\n",
       "      <td>0</td>\n",
       "      <td>0</td>\n",
       "      <td>0</td>\n",
       "      <td>1</td>\n",
       "      <td>0</td>\n",
       "      <td>0</td>\n",
       "      <td>0</td>\n",
       "    </tr>\n",
       "    <tr>\n",
       "      <td>4</td>\n",
       "      <td>Accounting</td>\n",
       "      <td>0</td>\n",
       "      <td>0</td>\n",
       "      <td>0</td>\n",
       "      <td>0</td>\n",
       "      <td>0</td>\n",
       "      <td>0</td>\n",
       "      <td>0</td>\n",
       "      <td>1</td>\n",
       "    </tr>\n",
       "    <tr>\n",
       "      <td>5</td>\n",
       "      <td>Active Lifestyle</td>\n",
       "      <td>0</td>\n",
       "      <td>0</td>\n",
       "      <td>0</td>\n",
       "      <td>1</td>\n",
       "      <td>0</td>\n",
       "      <td>0</td>\n",
       "      <td>0</td>\n",
       "      <td>0</td>\n",
       "    </tr>\n",
       "  </tbody>\n",
       "</table>\n",
       "</div>"
      ],
      "text/plain": [
       "      category_list  Automotive & Sports  Cleantech / Semiconductors  \\\n",
       "1                3D                    0                           0   \n",
       "2       3D Printing                    0                           0   \n",
       "3     3D Technology                    0                           0   \n",
       "4        Accounting                    0                           0   \n",
       "5  Active Lifestyle                    0                           0   \n",
       "\n",
       "   Entertainment  Health  Manufacturing  News, Search and Messaging  Others  \\\n",
       "1              0       0              1                           0       0   \n",
       "2              0       0              1                           0       0   \n",
       "3              0       0              1                           0       0   \n",
       "4              0       0              0                           0       0   \n",
       "5              0       1              0                           0       0   \n",
       "\n",
       "   Social, Finance, Analytics, Advertising  \n",
       "1                                        0  \n",
       "2                                        0  \n",
       "3                                        0  \n",
       "4                                        1  \n",
       "5                                        0  "
      ]
     },
     "execution_count": 47,
     "metadata": {},
     "output_type": "execute_result"
    }
   ],
   "source": [
    "# We can drop row at index 0 and column 'Blanks' as they are fillers\n",
    "# We have also dropped rows with category_list as NAN\n",
    "mapping = mapping.iloc[1:, ~(mapping.columns == \"Blanks\")]\n",
    "mapping.head()"
   ]
  },
  {
   "cell_type": "code",
   "execution_count": 48,
   "metadata": {},
   "outputs": [],
   "source": [
    "mapping.reset_index(drop=True, inplace=True)"
   ]
  },
  {
   "cell_type": "code",
   "execution_count": 49,
   "metadata": {
    "scrolled": true
   },
   "outputs": [
    {
     "name": "stdout",
     "output_type": "stream",
     "text": [
      "mapping category_list column has unique values\n"
     ]
    }
   ],
   "source": [
    "# Check category_list has unique values only\n",
    "has_unique_values = mapping.category_list.apply(lambda cat: cat.lower()).nunique() == mapping.shape[0]\n",
    "if has_unique_values:\n",
    "    print(\"mapping category_list column has unique values\")\n",
    "else:\n",
    "    print(\"mapping category_list column has some duplicates\")"
   ]
  },
  {
   "cell_type": "markdown",
   "metadata": {},
   "source": [
    "__Creating a derived main_sector depending on the existing variables__"
   ]
  },
  {
   "cell_type": "code",
   "execution_count": 50,
   "metadata": {
    "scrolled": true
   },
   "outputs": [
    {
     "name": "stdout",
     "output_type": "stream",
     "text": [
      "(687, 3)\n"
     ]
    },
    {
     "data": {
      "text/html": [
       "<div>\n",
       "<style scoped>\n",
       "    .dataframe tbody tr th:only-of-type {\n",
       "        vertical-align: middle;\n",
       "    }\n",
       "\n",
       "    .dataframe tbody tr th {\n",
       "        vertical-align: top;\n",
       "    }\n",
       "\n",
       "    .dataframe thead th {\n",
       "        text-align: right;\n",
       "    }\n",
       "</style>\n",
       "<table border=\"1\" class=\"dataframe\">\n",
       "  <thead>\n",
       "    <tr style=\"text-align: right;\">\n",
       "      <th></th>\n",
       "      <th>category_list</th>\n",
       "      <th>variable</th>\n",
       "      <th>value</th>\n",
       "    </tr>\n",
       "  </thead>\n",
       "  <tbody>\n",
       "    <tr>\n",
       "      <td>3172</td>\n",
       "      <td>Manufacturing</td>\n",
       "      <td>Manufacturing</td>\n",
       "      <td>1</td>\n",
       "    </tr>\n",
       "    <tr>\n",
       "      <td>3226</td>\n",
       "      <td>New Technologies</td>\n",
       "      <td>Manufacturing</td>\n",
       "      <td>1</td>\n",
       "    </tr>\n",
       "    <tr>\n",
       "      <td>4609</td>\n",
       "      <td>Oil and Gas</td>\n",
       "      <td>Others</td>\n",
       "      <td>1</td>\n",
       "    </tr>\n",
       "    <tr>\n",
       "      <td>4507</td>\n",
       "      <td>iPad</td>\n",
       "      <td>Others</td>\n",
       "      <td>1</td>\n",
       "    </tr>\n",
       "  </tbody>\n",
       "</table>\n",
       "</div>"
      ],
      "text/plain": [
       "         category_list       variable  value\n",
       "3172     Manufacturing  Manufacturing      1\n",
       "3226  New Technologies  Manufacturing      1\n",
       "4609       Oil and Gas         Others      1\n",
       "4507              iPad         Others      1"
      ]
     },
     "execution_count": 50,
     "metadata": {},
     "output_type": "execute_result"
    }
   ],
   "source": [
    "# melt function creates two new columns variable and value. It drop the columns not passed to the function.\n",
    "# It then adds the column name and value in the variable and value function for each row.\n",
    "melt_mapping = pd.melt(mapping, \"category_list\")\n",
    "\n",
    "# We then filter rows with value as 1 to identify the sectors for the category_list\n",
    "melt_mapping = melt_mapping[melt_mapping.value == 1]\n",
    "print(melt_mapping.shape)\n",
    "melt_mapping.sample(4)"
   ]
  },
  {
   "cell_type": "code",
   "execution_count": 51,
   "metadata": {
    "scrolled": true
   },
   "outputs": [
    {
     "data": {
      "text/html": [
       "<div>\n",
       "<style scoped>\n",
       "    .dataframe tbody tr th:only-of-type {\n",
       "        vertical-align: middle;\n",
       "    }\n",
       "\n",
       "    .dataframe tbody tr th {\n",
       "        vertical-align: top;\n",
       "    }\n",
       "\n",
       "    .dataframe thead th {\n",
       "        text-align: right;\n",
       "    }\n",
       "</style>\n",
       "<table border=\"1\" class=\"dataframe\">\n",
       "  <thead>\n",
       "    <tr style=\"text-align: right;\">\n",
       "      <th></th>\n",
       "      <th>category_list</th>\n",
       "      <th>main_sector</th>\n",
       "    </tr>\n",
       "  </thead>\n",
       "  <tbody>\n",
       "    <tr>\n",
       "      <td>5228</td>\n",
       "      <td>Lotteries</td>\n",
       "      <td>Social, Finance, Analytics, Advertising</td>\n",
       "    </tr>\n",
       "    <tr>\n",
       "      <td>1596</td>\n",
       "      <td>Educatio0l Games</td>\n",
       "      <td>Entertainment</td>\n",
       "    </tr>\n",
       "    <tr>\n",
       "      <td>4365</td>\n",
       "      <td>Enterprise Application</td>\n",
       "      <td>Others</td>\n",
       "    </tr>\n",
       "  </tbody>\n",
       "</table>\n",
       "</div>"
      ],
      "text/plain": [
       "               category_list                              main_sector\n",
       "5228               Lotteries  Social, Finance, Analytics, Advertising\n",
       "1596        Educatio0l Games                            Entertainment\n",
       "4365  Enterprise Application                                   Others"
      ]
     },
     "execution_count": 51,
     "metadata": {},
     "output_type": "execute_result"
    }
   ],
   "source": [
    "# Remove the value column as it contains only 1 as the value and rename column \"variable\" to \"main_sector\"\n",
    "# Store the result back in mapping\n",
    "mapping = melt_mapping.rename(columns={\"variable\": \"main_sector\"}).iloc[:, :-1]\n",
    "mapping.sample(3)"
   ]
  },
  {
   "cell_type": "code",
   "execution_count": 52,
   "metadata": {},
   "outputs": [
    {
     "data": {
      "text/plain": [
       "(687, 2)"
      ]
     },
     "execution_count": 52,
     "metadata": {},
     "output_type": "execute_result"
    }
   ],
   "source": [
    "mapping.shape"
   ]
  },
  {
   "cell_type": "code",
   "execution_count": 53,
   "metadata": {},
   "outputs": [],
   "source": [
    "# Merging will involve comparison of mapping category_list and primary_sector_frame primary_sector.\n",
    "# So lets lowercase both\n",
    "mapping.category_list = mapping.category_list.apply(lambda x: x.lower())\n",
    "venture_master_frame.primary_sector = venture_master_frame.primary_sector.apply(lambda x: x.lower())"
   ]
  },
  {
   "cell_type": "code",
   "execution_count": 54,
   "metadata": {},
   "outputs": [],
   "source": [
    "inp_sector_analysis2 = pd.merge(venture_master_frame, mapping.loc[:, [\"category_list\",\"main_sector\"]].rename(columns={\"category_list\": \"primary_sector\"}), how=\"inner\", on=\"primary_sector\")"
   ]
  },
  {
   "cell_type": "code",
   "execution_count": 55,
   "metadata": {},
   "outputs": [
    {
     "name": "stdout",
     "output_type": "stream",
     "text": [
      "(11807, 7)\n"
     ]
    }
   ],
   "source": [
    "print(inp_sector_analysis2.shape)"
   ]
  },
  {
   "cell_type": "code",
   "execution_count": 56,
   "metadata": {
    "scrolled": false
   },
   "outputs": [
    {
     "data": {
      "text/html": [
       "<div>\n",
       "<style scoped>\n",
       "    .dataframe tbody tr th:only-of-type {\n",
       "        vertical-align: middle;\n",
       "    }\n",
       "\n",
       "    .dataframe tbody tr th {\n",
       "        vertical-align: top;\n",
       "    }\n",
       "\n",
       "    .dataframe thead th {\n",
       "        text-align: right;\n",
       "    }\n",
       "</style>\n",
       "<table border=\"1\" class=\"dataframe\">\n",
       "  <thead>\n",
       "    <tr style=\"text-align: right;\">\n",
       "      <th></th>\n",
       "      <th>company_permalink</th>\n",
       "      <th>name</th>\n",
       "      <th>status</th>\n",
       "      <th>country_code</th>\n",
       "      <th>raised_amount_usd</th>\n",
       "      <th>primary_sector</th>\n",
       "      <th>main_sector</th>\n",
       "    </tr>\n",
       "  </thead>\n",
       "  <tbody>\n",
       "    <tr>\n",
       "      <td>4210</td>\n",
       "      <td>/organization/pubmatic</td>\n",
       "      <td>PubMatic</td>\n",
       "      <td>operating</td>\n",
       "      <td>USA</td>\n",
       "      <td>7000000.0</td>\n",
       "      <td>advertising</td>\n",
       "      <td>Social, Finance, Analytics, Advertising</td>\n",
       "    </tr>\n",
       "    <tr>\n",
       "      <td>8920</td>\n",
       "      <td>/organization/appfolio</td>\n",
       "      <td>Appfolio</td>\n",
       "      <td>ipo</td>\n",
       "      <td>USA</td>\n",
       "      <td>8000000.0</td>\n",
       "      <td>real estate</td>\n",
       "      <td>Others</td>\n",
       "    </tr>\n",
       "    <tr>\n",
       "      <td>8471</td>\n",
       "      <td>/organization/hashicorp</td>\n",
       "      <td>HashiCorp</td>\n",
       "      <td>operating</td>\n",
       "      <td>USA</td>\n",
       "      <td>10000000.0</td>\n",
       "      <td>development platforms</td>\n",
       "      <td>Social, Finance, Analytics, Advertising</td>\n",
       "    </tr>\n",
       "  </tbody>\n",
       "</table>\n",
       "</div>"
      ],
      "text/plain": [
       "            company_permalink       name     status country_code  \\\n",
       "4210   /organization/pubmatic   PubMatic  operating          USA   \n",
       "8920   /organization/appfolio   Appfolio        ipo          USA   \n",
       "8471  /organization/hashicorp  HashiCorp  operating          USA   \n",
       "\n",
       "      raised_amount_usd         primary_sector  \\\n",
       "4210          7000000.0            advertising   \n",
       "8920          8000000.0            real estate   \n",
       "8471         10000000.0  development platforms   \n",
       "\n",
       "                                  main_sector  \n",
       "4210  Social, Finance, Analytics, Advertising  \n",
       "8920                                   Others  \n",
       "8471  Social, Finance, Analytics, Advertising  "
      ]
     },
     "execution_count": 56,
     "metadata": {},
     "output_type": "execute_result"
    }
   ],
   "source": [
    "inp_sector_analysis2.sample(3)"
   ]
  },
  {
   "cell_type": "code",
   "execution_count": 57,
   "metadata": {},
   "outputs": [
    {
     "data": {
      "text/plain": [
       "(13337, 7)"
      ]
     },
     "execution_count": 57,
     "metadata": {},
     "output_type": "execute_result"
    }
   ],
   "source": [
    "master_frame.shape"
   ]
  },
  {
   "cell_type": "code",
   "execution_count": 58,
   "metadata": {},
   "outputs": [
    {
     "data": {
      "text/plain": [
       "(12797, 6)"
      ]
     },
     "execution_count": 58,
     "metadata": {},
     "output_type": "execute_result"
    }
   ],
   "source": [
    "venture_master_frame.shape"
   ]
  },
  {
   "cell_type": "code",
   "execution_count": 59,
   "metadata": {},
   "outputs": [
    {
     "data": {
      "text/plain": [
       "(11807, 7)"
      ]
     },
     "execution_count": 59,
     "metadata": {},
     "output_type": "execute_result"
    }
   ],
   "source": [
    "inp_sector_analysis2.shape"
   ]
  },
  {
   "cell_type": "markdown",
   "metadata": {},
   "source": [
    "## Summary Checkpoint 4: Sector Analysis 1\n",
    "1. Extracted the __primary sector__ of each category list from the __category_list column__ in __venture_master_frame__ using business logic.\n",
    "2. Used the mapping file 'mapping.csv' to map each primary sector to one of the eight main sectors\n",
    "    1. Created mapping df.\n",
    "    2. Dropped row at index 0 and column 'Blanks' as they are fillers from the mapping df\n",
    "    3. Reset index of mapping.\n",
    "    4. Created derived variable __main_sector__ in mapping.\n",
    "    5. Formed __inner merge__ of __venture_master_frame__ and __mapping__ for __primary_sector__ into inp_sector_analysis2.\n",
    "    \n",
    "### master_frame shape: (13337, 7)\n",
    "### venture_master_frame: (12797, 6)\n",
    "### inp_sector_analysis2: (11807, 7)\n",
    "    "
   ]
  },
  {
   "cell_type": "markdown",
   "metadata": {},
   "source": [
    "-------------------------------------------------------------------\n",
    "-------------------------------------------------------------------\n",
    "# Checkpoint 5: Sector Analysis 2"
   ]
  },
  {
   "cell_type": "markdown",
   "metadata": {},
   "source": [
    "#### 1. Create three separate data frames D1, D2 and D3 for each of the three countries containing the observations of funding type FT falling within the 5-15 million USD range. The three data frames should contain:\n",
    "- All the columns of the master_frame along with the primary sector and the main sector\n",
    "- The total number (or count) of investments for each main sector in a separate column\n",
    "- The total amount invested in each main sector in a separate column\n",
    "\n",
    "##### We can use inp_sector_analysis2 from Checkpoint 4 to get D1, D2, D3 as it is filtered for FT and investment range 5-15 million USD and also contains main_sector."
   ]
  },
  {
   "cell_type": "markdown",
   "metadata": {},
   "source": [
    "__All the columns of the master_frame along with the primary sector and the main sector__"
   ]
  },
  {
   "cell_type": "code",
   "execution_count": 60,
   "metadata": {},
   "outputs": [],
   "source": [
    "def makedfforcountrycode(df, countrycode):\n",
    "    return df[df.country_code == countrycode]"
   ]
  },
  {
   "cell_type": "code",
   "execution_count": 61,
   "metadata": {},
   "outputs": [],
   "source": [
    "D1 = makedfforcountrycode(inp_sector_analysis2, \"USA\")\n",
    "D2 = makedfforcountrycode(inp_sector_analysis2, \"GBR\")\n",
    "D3 = makedfforcountrycode(inp_sector_analysis2, \"CAN\")\n",
    "\n",
    "drop_columns = [\"country_code\", \"category_list\"]\n",
    "D1 = D1.iloc[:, ~(D1.columns.isin(drop_columns))]\n",
    "D2 = D2.iloc[:, ~(D2.columns.isin(drop_columns))]\n",
    "D3 = D3.iloc[:, ~(D3.columns.isin(drop_columns))]"
   ]
  },
  {
   "cell_type": "markdown",
   "metadata": {},
   "source": [
    "__The total number (or count) of investments for each main sector in a separate column__"
   ]
  },
  {
   "cell_type": "code",
   "execution_count": 62,
   "metadata": {},
   "outputs": [],
   "source": [
    "def setmainsectorfrequencycolumn(df):\n",
    "    main_sector_frequencies = df.main_sector.astype('category').value_counts()\n",
    "    df[\"count_main_sector\"] = df.main_sector.apply(lambda sector: main_sector_frequencies[sector])"
   ]
  },
  {
   "cell_type": "code",
   "execution_count": 63,
   "metadata": {},
   "outputs": [],
   "source": [
    "setmainsectorfrequencycolumn(D1)\n",
    "setmainsectorfrequencycolumn(D2)\n",
    "setmainsectorfrequencycolumn(D3)"
   ]
  },
  {
   "cell_type": "markdown",
   "metadata": {},
   "source": [
    "__The total amount invested in each main sector in a separate column__"
   ]
  },
  {
   "cell_type": "code",
   "execution_count": 64,
   "metadata": {},
   "outputs": [],
   "source": [
    "def setmainsectortotalfundingcolumn(df):\n",
    "    main_sector_totalfunding = df.groupby(\"main_sector\")[\"raised_amount_usd\"].sum()\n",
    "    df[\"total_funding_main_sector\"] = df.main_sector.apply(lambda sector: main_sector_totalfunding[sector])"
   ]
  },
  {
   "cell_type": "code",
   "execution_count": 65,
   "metadata": {},
   "outputs": [],
   "source": [
    "setmainsectortotalfundingcolumn(D1)\n",
    "setmainsectortotalfundingcolumn(D2)\n",
    "setmainsectortotalfundingcolumn(D3)"
   ]
  },
  {
   "cell_type": "code",
   "execution_count": 66,
   "metadata": {},
   "outputs": [
    {
     "data": {
      "text/html": [
       "<div>\n",
       "<style scoped>\n",
       "    .dataframe tbody tr th:only-of-type {\n",
       "        vertical-align: middle;\n",
       "    }\n",
       "\n",
       "    .dataframe tbody tr th {\n",
       "        vertical-align: top;\n",
       "    }\n",
       "\n",
       "    .dataframe thead th {\n",
       "        text-align: right;\n",
       "    }\n",
       "</style>\n",
       "<table border=\"1\" class=\"dataframe\">\n",
       "  <thead>\n",
       "    <tr style=\"text-align: right;\">\n",
       "      <th></th>\n",
       "      <th>company_permalink</th>\n",
       "      <th>name</th>\n",
       "      <th>status</th>\n",
       "      <th>raised_amount_usd</th>\n",
       "      <th>primary_sector</th>\n",
       "      <th>main_sector</th>\n",
       "      <th>count_main_sector</th>\n",
       "      <th>total_funding_main_sector</th>\n",
       "    </tr>\n",
       "  </thead>\n",
       "  <tbody>\n",
       "    <tr>\n",
       "      <td>9883</td>\n",
       "      <td>/organization/walls-holding</td>\n",
       "      <td>Walls Holding</td>\n",
       "      <td>operating</td>\n",
       "      <td>5225260.0</td>\n",
       "      <td>consumer goods</td>\n",
       "      <td>Manufacturing</td>\n",
       "      <td>739</td>\n",
       "      <td>6.700079e+09</td>\n",
       "    </tr>\n",
       "    <tr>\n",
       "      <td>9918</td>\n",
       "      <td>/organization/outside-in</td>\n",
       "      <td>Outside.in</td>\n",
       "      <td>acquired</td>\n",
       "      <td>7000000.0</td>\n",
       "      <td>communities</td>\n",
       "      <td>Social, Finance, Analytics, Advertising</td>\n",
       "      <td>1813</td>\n",
       "      <td>1.590572e+10</td>\n",
       "    </tr>\n",
       "    <tr>\n",
       "      <td>8373</td>\n",
       "      <td>/organization/dealertrack</td>\n",
       "      <td>Dealertrack</td>\n",
       "      <td>acquired</td>\n",
       "      <td>10000000.0</td>\n",
       "      <td>business services</td>\n",
       "      <td>Social, Finance, Analytics, Advertising</td>\n",
       "      <td>1813</td>\n",
       "      <td>1.590572e+10</td>\n",
       "    </tr>\n",
       "  </tbody>\n",
       "</table>\n",
       "</div>"
      ],
      "text/plain": [
       "                company_permalink           name     status  \\\n",
       "9883  /organization/walls-holding  Walls Holding  operating   \n",
       "9918     /organization/outside-in     Outside.in   acquired   \n",
       "8373    /organization/dealertrack    Dealertrack   acquired   \n",
       "\n",
       "      raised_amount_usd     primary_sector  \\\n",
       "9883          5225260.0     consumer goods   \n",
       "9918          7000000.0        communities   \n",
       "8373         10000000.0  business services   \n",
       "\n",
       "                                  main_sector  count_main_sector  \\\n",
       "9883                            Manufacturing                739   \n",
       "9918  Social, Finance, Analytics, Advertising               1813   \n",
       "8373  Social, Finance, Analytics, Advertising               1813   \n",
       "\n",
       "      total_funding_main_sector  \n",
       "9883               6.700079e+09  \n",
       "9918               1.590572e+10  \n",
       "8373               1.590572e+10  "
      ]
     },
     "execution_count": 66,
     "metadata": {},
     "output_type": "execute_result"
    }
   ],
   "source": [
    "D1.sample(3)"
   ]
  },
  {
   "cell_type": "code",
   "execution_count": 67,
   "metadata": {},
   "outputs": [
    {
     "data": {
      "text/html": [
       "<div>\n",
       "<style scoped>\n",
       "    .dataframe tbody tr th:only-of-type {\n",
       "        vertical-align: middle;\n",
       "    }\n",
       "\n",
       "    .dataframe tbody tr th {\n",
       "        vertical-align: top;\n",
       "    }\n",
       "\n",
       "    .dataframe thead th {\n",
       "        text-align: right;\n",
       "    }\n",
       "</style>\n",
       "<table border=\"1\" class=\"dataframe\">\n",
       "  <thead>\n",
       "    <tr style=\"text-align: right;\">\n",
       "      <th></th>\n",
       "      <th>company_permalink</th>\n",
       "      <th>name</th>\n",
       "      <th>status</th>\n",
       "      <th>raised_amount_usd</th>\n",
       "      <th>primary_sector</th>\n",
       "      <th>main_sector</th>\n",
       "      <th>count_main_sector</th>\n",
       "      <th>total_funding_main_sector</th>\n",
       "    </tr>\n",
       "  </thead>\n",
       "  <tbody>\n",
       "    <tr>\n",
       "      <td>2354</td>\n",
       "      <td>/organization/cell-medica</td>\n",
       "      <td>Cell Medica</td>\n",
       "      <td>operating</td>\n",
       "      <td>7290000.0</td>\n",
       "      <td>biotechnology</td>\n",
       "      <td>Cleantech / Semiconductors</td>\n",
       "      <td>114</td>\n",
       "      <td>1.028029e+09</td>\n",
       "    </tr>\n",
       "    <tr>\n",
       "      <td>1140</td>\n",
       "      <td>/organization/semmle</td>\n",
       "      <td>Semmle</td>\n",
       "      <td>operating</td>\n",
       "      <td>8000000.0</td>\n",
       "      <td>software</td>\n",
       "      <td>Others</td>\n",
       "      <td>137</td>\n",
       "      <td>1.189442e+09</td>\n",
       "    </tr>\n",
       "    <tr>\n",
       "      <td>11416</td>\n",
       "      <td>/organization/ecourier</td>\n",
       "      <td>eCourier.co.uk</td>\n",
       "      <td>acquired</td>\n",
       "      <td>6064606.0</td>\n",
       "      <td>algorithms</td>\n",
       "      <td>Others</td>\n",
       "      <td>137</td>\n",
       "      <td>1.189442e+09</td>\n",
       "    </tr>\n",
       "  </tbody>\n",
       "</table>\n",
       "</div>"
      ],
      "text/plain": [
       "               company_permalink            name     status  \\\n",
       "2354   /organization/cell-medica     Cell Medica  operating   \n",
       "1140        /organization/semmle          Semmle  operating   \n",
       "11416     /organization/ecourier  eCourier.co.uk   acquired   \n",
       "\n",
       "       raised_amount_usd primary_sector                 main_sector  \\\n",
       "2354           7290000.0  biotechnology  Cleantech / Semiconductors   \n",
       "1140           8000000.0       software                      Others   \n",
       "11416          6064606.0     algorithms                      Others   \n",
       "\n",
       "       count_main_sector  total_funding_main_sector  \n",
       "2354                 114               1.028029e+09  \n",
       "1140                 137               1.189442e+09  \n",
       "11416                137               1.189442e+09  "
      ]
     },
     "execution_count": 67,
     "metadata": {},
     "output_type": "execute_result"
    }
   ],
   "source": [
    "D2.sample(3)"
   ]
  },
  {
   "cell_type": "code",
   "execution_count": 68,
   "metadata": {},
   "outputs": [
    {
     "data": {
      "text/html": [
       "<div>\n",
       "<style scoped>\n",
       "    .dataframe tbody tr th:only-of-type {\n",
       "        vertical-align: middle;\n",
       "    }\n",
       "\n",
       "    .dataframe tbody tr th {\n",
       "        vertical-align: top;\n",
       "    }\n",
       "\n",
       "    .dataframe thead th {\n",
       "        text-align: right;\n",
       "    }\n",
       "</style>\n",
       "<table border=\"1\" class=\"dataframe\">\n",
       "  <thead>\n",
       "    <tr style=\"text-align: right;\">\n",
       "      <th></th>\n",
       "      <th>company_permalink</th>\n",
       "      <th>name</th>\n",
       "      <th>status</th>\n",
       "      <th>raised_amount_usd</th>\n",
       "      <th>primary_sector</th>\n",
       "      <th>main_sector</th>\n",
       "      <th>count_main_sector</th>\n",
       "      <th>total_funding_main_sector</th>\n",
       "    </tr>\n",
       "  </thead>\n",
       "  <tbody>\n",
       "    <tr>\n",
       "      <td>6974</td>\n",
       "      <td>/organization/get-myo</td>\n",
       "      <td>Thalmic Labs</td>\n",
       "      <td>operating</td>\n",
       "      <td>14500000.0</td>\n",
       "      <td>health and wellness</td>\n",
       "      <td>Health</td>\n",
       "      <td>17</td>\n",
       "      <td>143960390.0</td>\n",
       "    </tr>\n",
       "    <tr>\n",
       "      <td>6617</td>\n",
       "      <td>/organization/vantrix</td>\n",
       "      <td>Vantrix</td>\n",
       "      <td>operating</td>\n",
       "      <td>10000000.0</td>\n",
       "      <td>mobile</td>\n",
       "      <td>News, Search and Messaging</td>\n",
       "      <td>44</td>\n",
       "      <td>406121113.0</td>\n",
       "    </tr>\n",
       "    <tr>\n",
       "      <td>5475</td>\n",
       "      <td>/organization/fresche-legacy</td>\n",
       "      <td>Fresche Legacy</td>\n",
       "      <td>operating</td>\n",
       "      <td>7800000.0</td>\n",
       "      <td>consulting</td>\n",
       "      <td>Social, Finance, Analytics, Advertising</td>\n",
       "      <td>50</td>\n",
       "      <td>422343073.0</td>\n",
       "    </tr>\n",
       "  </tbody>\n",
       "</table>\n",
       "</div>"
      ],
      "text/plain": [
       "                 company_permalink            name     status  \\\n",
       "6974         /organization/get-myo    Thalmic Labs  operating   \n",
       "6617         /organization/vantrix         Vantrix  operating   \n",
       "5475  /organization/fresche-legacy  Fresche Legacy  operating   \n",
       "\n",
       "      raised_amount_usd       primary_sector  \\\n",
       "6974         14500000.0  health and wellness   \n",
       "6617         10000000.0               mobile   \n",
       "5475          7800000.0           consulting   \n",
       "\n",
       "                                  main_sector  count_main_sector  \\\n",
       "6974                                   Health                 17   \n",
       "6617               News, Search and Messaging                 44   \n",
       "5475  Social, Finance, Analytics, Advertising                 50   \n",
       "\n",
       "      total_funding_main_sector  \n",
       "6974                143960390.0  \n",
       "6617                406121113.0  \n",
       "5475                422343073.0  "
      ]
     },
     "execution_count": 68,
     "metadata": {},
     "output_type": "execute_result"
    }
   ],
   "source": [
    "D3.sample(3)"
   ]
  },
  {
   "cell_type": "markdown",
   "metadata": {},
   "source": [
    "#### 2. Table 5.1: Based on the analysis of the sectors, which main sectors and countries would you recommend Spark Funds to invest in? Present your conclusions in the presentation. The conclusions are subjective (i.e. there may be no ‘one right answer’), but it should be based on the basic strategy — invest in sectors where most investments are occurring. "
   ]
  },
  {
   "cell_type": "code",
   "execution_count": 69,
   "metadata": {},
   "outputs": [],
   "source": [
    "def maxfundedcompany(withinsector, lookindf):\n",
    "    sector = withinsector\n",
    "    df = lookindf\n",
    "    sector_df = df[df.main_sector == sector]\n",
    "    company_permalink_group = sector_df.groupby(\"company_permalink\")\n",
    "    raised_amount_sums = company_permalink_group[\"raised_amount_usd\"].sum()\n",
    "    max_raised_amount_permalink = raised_amount_sums.sort_values(ascending=False).index[0]\n",
    "    sector_maxfunded_company = sector_df[sector_df.company_permalink == max_raised_amount_permalink].name.iloc[0]\n",
    "    return sector_maxfunded_company\n",
    "\n",
    "\n",
    "def table_5_1_sectorwiseinvestmentanalysis(df, annote):\n",
    "    main_sector_value_counts = df.main_sector.astype('category').value_counts()\n",
    "\n",
    "    top_sector_name = main_sector_value_counts.index[0]\n",
    "    second_sector_name = main_sector_value_counts.index[1]\n",
    "    third_sector_name = main_sector_value_counts.index[2]\n",
    "    \n",
    "    ninvestments_topsector = main_sector_value_counts[0]\n",
    "    ninvestments_secondsector = main_sector_value_counts[1]\n",
    "    ninvestments_thirdsector = main_sector_value_counts[2]\n",
    "    \n",
    "    top_sector_maxfunded_company = maxfundedcompany(withinsector=top_sector_name, lookindf=df)\n",
    "    second_sector_maxfunded_company = maxfundedcompany(withinsector=second_sector_name, lookindf=df)\n",
    "\n",
    "    if annote:\n",
    "        print(\"1. Total number of investments (count):\", df.shape[0])\n",
    "        print(\"2. Total amount of investment (USD):\", df.raised_amount_usd.sum())\n",
    "        print(\"3. Top sector (based on count of investments):\", top_sector_name)\n",
    "        print(\"4. Second-best sector (based on count of investments):\", second_sector_name)\n",
    "        print(\"5. Third-best sector (based on count of investments):\", third_sector_name)\n",
    "        print(\"6. Number of investments in the top sector (refer to point 3):\", ninvestments_topsector)\n",
    "        print(\"7. Number of investments in the second-best sector (refer to point 4):\", ninvestments_secondsector)\n",
    "        print(\"8. Number of investments in the third-best sector (refer to point 5):\", ninvestments_thirdsector)\n",
    "        print(\"9. For the top sector count-wise (point 3), which company received the highest investment?:\", top_sector_maxfunded_company)\n",
    "        print(\"10. For the second-best sector count-wise (point 4), which company received the highest investment?:\", second_sector_maxfunded_company)\n",
    "    else:\n",
    "        print(df.shape[0])\n",
    "        print(df.raised_amount_usd.sum())\n",
    "        print(top_sector_name)\n",
    "        print(second_sector_name)\n",
    "        print(third_sector_name)\n",
    "        print(ninvestments_topsector)\n",
    "        print(ninvestments_secondsector)\n",
    "        print(ninvestments_thirdsector)\n",
    "        print(top_sector_maxfunded_company)\n",
    "        print(second_sector_maxfunded_company)"
   ]
  },
  {
   "cell_type": "code",
   "execution_count": 70,
   "metadata": {
    "scrolled": true
   },
   "outputs": [
    {
     "name": "stdout",
     "output_type": "stream",
     "text": [
      "USA\n",
      "1. Total number of investments (count): 10404\n",
      "2. Total amount of investment (USD): 93176222534.0\n",
      "3. Top sector (based on count of investments): Others\n",
      "4. Second-best sector (based on count of investments): Cleantech / Semiconductors\n",
      "5. Third-best sector (based on count of investments): Social, Finance, Analytics, Advertising\n",
      "6. Number of investments in the top sector (refer to point 3): 157\n",
      "7. Number of investments in the second-best sector (refer to point 4): 2145\n",
      "8. Number of investments in the third-best sector (refer to point 5): 520\n",
      "9. For the top sector count-wise (point 3), which company received the highest investment?: Virtustream\n",
      "10. For the second-best sector count-wise (point 4), which company received the highest investment?: Biodesix\n",
      "----------------------------------------\n",
      "GBR\n",
      "1. Total number of investments (count): 542\n",
      "2. Total amount of investment (USD): 4728734985.0\n",
      "3. Top sector (based on count of investments): Others\n",
      "4. Second-best sector (based on count of investments): Cleantech / Semiconductors\n",
      "5. Third-best sector (based on count of investments): Social, Finance, Analytics, Advertising\n",
      "6. Number of investments in the top sector (refer to point 3): 16\n",
      "7. Number of investments in the second-best sector (refer to point 4): 114\n",
      "8. Number of investments in the third-best sector (refer to point 5): 51\n",
      "9. For the top sector count-wise (point 3), which company received the highest investment?: Electric Cloud\n",
      "10. For the second-best sector count-wise (point 4), which company received the highest investment?: EUSA Pharma\n",
      "----------------------------------------\n",
      "CAN\n",
      "1. Total number of investments (count): 361\n",
      "2. Total amount of investment (USD): 3100755116.0\n",
      "3. Top sector (based on count of investments): Others\n",
      "4. Second-best sector (based on count of investments): Cleantech / Semiconductors\n",
      "5. Third-best sector (based on count of investments): Social, Finance, Analytics, Advertising\n",
      "6. Number of investments in the top sector (refer to point 3): 2\n",
      "7. Number of investments in the second-best sector (refer to point 4): 99\n",
      "8. Number of investments in the third-best sector (refer to point 5): 20\n",
      "9. For the top sector count-wise (point 3), which company received the highest investment?: QuickPlay Media\n",
      "10. For the second-best sector count-wise (point 4), which company received the highest investment?: Fresco Microchip\n"
     ]
    }
   ],
   "source": [
    "print(\"USA\")\n",
    "table_5_1_sectorwiseinvestmentanalysis(D1, annote=True)\n",
    "print(\"----------------------------------------\")\n",
    "print(\"GBR\")\n",
    "table_5_1_sectorwiseinvestmentanalysis(D2, annote=True)\n",
    "print(\"----------------------------------------\")\n",
    "print(\"CAN\")\n",
    "table_5_1_sectorwiseinvestmentanalysis(D3, annote=True)\n",
    "\n",
    "\n",
    "if excelpaste_printing:\n",
    "    print(\"-----------------Excel paste data Table-5.1----------------------\")\n",
    "    print(\"USA\")\n",
    "    table_5_1_sectorwiseinvestmentanalysis(D1, annote=False)\n",
    "    print(\"----------------------------------------\")\n",
    "    print(\"GBR\")\n",
    "    table_5_1_sectorwiseinvestmentanalysis(D2, annote=False)\n",
    "    print(\"----------------------------------------\")\n",
    "    print(\"CAN\")\n",
    "    table_5_1_sectorwiseinvestmentanalysis(D3, annote=False)"
   ]
  },
  {
   "cell_type": "code",
   "execution_count": 71,
   "metadata": {},
   "outputs": [
    {
     "data": {
      "text/plain": [
       "(13337, 7)"
      ]
     },
     "execution_count": 71,
     "metadata": {},
     "output_type": "execute_result"
    }
   ],
   "source": [
    "master_frame.shape"
   ]
  },
  {
   "cell_type": "code",
   "execution_count": 72,
   "metadata": {},
   "outputs": [
    {
     "data": {
      "text/plain": [
       "(12797, 6)"
      ]
     },
     "execution_count": 72,
     "metadata": {},
     "output_type": "execute_result"
    }
   ],
   "source": [
    "venture_master_frame.shape"
   ]
  },
  {
   "cell_type": "code",
   "execution_count": 73,
   "metadata": {},
   "outputs": [
    {
     "data": {
      "text/plain": [
       "(11807, 7)"
      ]
     },
     "execution_count": 73,
     "metadata": {},
     "output_type": "execute_result"
    }
   ],
   "source": [
    "inp_sector_analysis2.shape"
   ]
  },
  {
   "cell_type": "markdown",
   "metadata": {},
   "source": [
    "## Summary Checkpoint 5: Sector Analysis 2\n",
    "1. Made D1, D2, D3 filtered for top 3 countries namely __USA__, __GBR__, __CAN__, filtererd for __venture__ funding and __raised_amount_usd__ in __5-15 million USD__.\n",
    "2. Created column __count_main_sector__ to D1, D2, D3 which contains the number of investments in different main sectors. This is redundant data as it repeats in multiple rows in my opinion.\n",
    "3. Created column __total_funding_main_sector__ to D1, D2, D3 which contains the total investment in different main sectors. This is redundant data as it repeats in multiple rows in my opinion.\n",
    "4. Created __report__ for Table 5.1 in the excel sheets.\n",
    "\n",
    "### master_frame shape: (13337, 7)\n",
    "### venture_master_frame: (12797, 6)\n",
    "### inp_sector_analysis2: (11807, 7)\n"
   ]
  },
  {
   "cell_type": "markdown",
   "metadata": {},
   "source": [
    "-------------------------------------------------------------------\n",
    "-------------------------------------------------------------------\n",
    "# Checkpoint 6: Plots"
   ]
  },
  {
   "cell_type": "markdown",
   "metadata": {},
   "source": [
    "1. A plot showing the fraction of total investments (globally) in angel, venture, seed, and private equity, and the average amount of investment in each funding type. This chart should make it clear that a certain funding type (FT) is best suited for Spark Funds.\n",
    "\n",
    "2. A plot showing the top 9 countries against the total amount of investments of funding type FT. This should make the top 3 countries (Country 1, Country 2, and Country 3) very clear.\n",
    "\n",
    "3. A plot showing the number of investments in the top 3 sectors of the top 3 countries on one chart (for the chosen investment type FT). \n",
    "\n",
    "__For 1 we can use cp6_master_frame which is filtered for venture, private equity, angel, seed and 5-15 million USD and for english speaking countries. It is created in Checkpoint 2.__\n",
    "\n",
    "__For 2 we can use top9 which contains top 9 countries for total investments. It is created in Checkpoint 3.__\n",
    "\n",
    "__For 3 we can use inp_sector_analysis2 from Checkpoint 4 and top9 from Checkpoint 3. inp_sector_analysis2 is filtered for FT and investment range 5-15 million USD and also contains main_sector.__"
   ]
  },
  {
   "cell_type": "code",
   "execution_count": 74,
   "metadata": {
    "scrolled": true
   },
   "outputs": [
    {
     "data": {
      "text/html": [
       "<div>\n",
       "<style scoped>\n",
       "    .dataframe tbody tr th:only-of-type {\n",
       "        vertical-align: middle;\n",
       "    }\n",
       "\n",
       "    .dataframe tbody tr th {\n",
       "        vertical-align: top;\n",
       "    }\n",
       "\n",
       "    .dataframe thead th {\n",
       "        text-align: right;\n",
       "    }\n",
       "</style>\n",
       "<table border=\"1\" class=\"dataframe\">\n",
       "  <thead>\n",
       "    <tr style=\"text-align: right;\">\n",
       "      <th></th>\n",
       "      <th>company_permalink</th>\n",
       "      <th>name</th>\n",
       "      <th>category_list</th>\n",
       "      <th>status</th>\n",
       "      <th>country_code</th>\n",
       "      <th>funding_round_type</th>\n",
       "      <th>raised_amount_usd</th>\n",
       "    </tr>\n",
       "  </thead>\n",
       "  <tbody>\n",
       "    <tr>\n",
       "      <td>66188</td>\n",
       "      <td>/organization/naviscan</td>\n",
       "      <td>Naviscan</td>\n",
       "      <td>Biotechnology</td>\n",
       "      <td>operating</td>\n",
       "      <td>USA</td>\n",
       "      <td>venture</td>\n",
       "      <td>15000000.0</td>\n",
       "    </tr>\n",
       "    <tr>\n",
       "      <td>35293</td>\n",
       "      <td>/organization/fiberzone-networks</td>\n",
       "      <td>FiberZone Networks</td>\n",
       "      <td>Analytics</td>\n",
       "      <td>operating</td>\n",
       "      <td>USA</td>\n",
       "      <td>venture</td>\n",
       "      <td>8000000.0</td>\n",
       "    </tr>\n",
       "    <tr>\n",
       "      <td>49056</td>\n",
       "      <td>/organization/intercloud-systems</td>\n",
       "      <td>Intercloud Systems</td>\n",
       "      <td>Analytics</td>\n",
       "      <td>ipo</td>\n",
       "      <td>USA</td>\n",
       "      <td>venture</td>\n",
       "      <td>11625000.0</td>\n",
       "    </tr>\n",
       "  </tbody>\n",
       "</table>\n",
       "</div>"
      ],
      "text/plain": [
       "                      company_permalink                name  category_list  \\\n",
       "66188            /organization/naviscan            Naviscan  Biotechnology   \n",
       "35293  /organization/fiberzone-networks  FiberZone Networks      Analytics   \n",
       "49056  /organization/intercloud-systems  Intercloud Systems      Analytics   \n",
       "\n",
       "          status country_code funding_round_type  raised_amount_usd  \n",
       "66188  operating          USA            venture         15000000.0  \n",
       "35293  operating          USA            venture          8000000.0  \n",
       "49056        ipo          USA            venture         11625000.0  "
      ]
     },
     "execution_count": 74,
     "metadata": {},
     "output_type": "execute_result"
    }
   ],
   "source": [
    "# Search # TOUSE: Checkpoint 6 to go to point of ceation of cp6_master_frame\n",
    "cp6_master_frame.sample(3)"
   ]
  },
  {
   "cell_type": "code",
   "execution_count": 75,
   "metadata": {},
   "outputs": [
    {
     "data": {
      "text/plain": [
       "0"
      ]
     },
     "execution_count": 75,
     "metadata": {},
     "output_type": "execute_result"
    }
   ],
   "source": [
    "# Look for nulls\n",
    "cp6_master_frame.raised_amount_usd.isnull().sum()"
   ]
  },
  {
   "cell_type": "code",
   "execution_count": 76,
   "metadata": {},
   "outputs": [
    {
     "data": {
      "text/plain": [
       "0"
      ]
     },
     "execution_count": 76,
     "metadata": {},
     "output_type": "execute_result"
    }
   ],
   "source": [
    "# Look for nulls\n",
    "cp6_master_frame.funding_round_type.isnull().sum()"
   ]
  },
  {
   "cell_type": "markdown",
   "metadata": {},
   "source": [
    "#### 1. A plot showing the fraction of total investments (globally) in angel, venture, seed, and private equity, and the average amount of investment in each funding type. This chart should make it clear that a certain funding type (FT) is best suited for Spark Funds."
   ]
  },
  {
   "cell_type": "code",
   "execution_count": 77,
   "metadata": {
    "scrolled": true
   },
   "outputs": [
    {
     "data": {
      "text/plain": [
       "16"
      ]
     },
     "execution_count": 77,
     "metadata": {},
     "output_type": "execute_result"
    }
   ],
   "source": [
    "cp6_master_frame.country_code.nunique()"
   ]
  },
  {
   "cell_type": "code",
   "execution_count": 78,
   "metadata": {},
   "outputs": [],
   "source": [
    "# Removing records without country code\n",
    "cp6_master_frame = cp6_master_frame[~cp6_master_frame.country_code.isnull()]"
   ]
  },
  {
   "cell_type": "code",
   "execution_count": 79,
   "metadata": {},
   "outputs": [
    {
     "data": {
      "image/png": "[encoded data removed]",
      "text/plain": [
       "<Figure size 648x360 with 1 Axes>"
      ]
     },
     "metadata": {
      "needs_background": "light"
     },
     "output_type": "display_data"
    }
   ],
   "source": [
    "figure, ax = plt.subplots(figsize = figsize)\n",
    "\n",
    "total_global_funding = cp6_master_frame.raised_amount_usd.sum()\n",
    "fraction_estimator = lambda fundingtype_investments: 100 * (fundingtype_investments.sum() / total_global_funding)\n",
    "\n",
    "splot = sns.barplot(cp6_master_frame.funding_round_type, cp6_master_frame.raised_amount_usd, estimator=fraction_estimator, errwidth=0)\n",
    "plt.title(\"Fractions of global total investments in USD by funding type\", fontsize=fontsize_title)\n",
    "plt.xlabel(\"Funding type\", fontsize=fontsize_axislabel)\n",
    "plt.ylabel(\"Total investments globally\", fontsize=fontsize_axislabel)\n",
    "\n",
    "funding_roundtypes = [label.get_text() for label in ax.get_xticklabels()]\n",
    "ax.set_xticklabels([\" \".join(str(roundtype).split(\"_\")).capitalize() for roundtype in funding_roundtypes])\n",
    "        \n",
    "for p in splot.patches:\n",
    "    heightstr = \"{:.2f}%\".format(p.get_height())\n",
    "\n",
    "    splot.annotate(heightstr, \n",
    "                   (p.get_x() + p.get_width() / 2., p.get_height()), \n",
    "                   ha = 'center', va = 'center', \n",
    "                   xytext = (0, 9), \n",
    "                   textcoords = 'offset points')\n",
    "\n",
    "if create_images:\n",
    "    plt.savefig(imagefolderpath+'/Fractions_globalinvestments.png', bbox_inches='tight')\n",
    "else:\n",
    "    plt.show()"
   ]
  },
  {
   "cell_type": "code",
   "execution_count": 80,
   "metadata": {},
   "outputs": [
    {
     "data": {
      "image/png": "[encoded data removed]",
      "text/plain": [
       "<Figure size 648x360 with 1 Axes>"
      ]
     },
     "metadata": {
      "needs_background": "light"
     },
     "output_type": "display_data"
    }
   ],
   "source": [
    "figure, ax = plt.subplots(figsize = figsize)\n",
    "splot = sns.barplot(cp6_master_frame.funding_round_type, cp6_master_frame.raised_amount_usd, errwidth=0)\n",
    "plt.title(\"Average total investments in USD by funding type\", fontsize=fontsize_title)\n",
    "plt.xlabel(\"Funding type\", fontsize=fontsize_axislabel)\n",
    "plt.ylabel(\"Average total funding in USD\", fontsize=fontsize_axislabel)\n",
    "\n",
    "funding_roundtypes = [label.get_text() for label in ax.get_xticklabels()]\n",
    "ax.set_xticklabels([\" \".join(str(roundtype).split(\"_\")).capitalize() for roundtype in funding_roundtypes])\n",
    "\n",
    "for p in splot.patches:\n",
    "    height = int(p.get_height())\n",
    "    heightstr = \"$ {:,}\".format(height)\n",
    "\n",
    "    splot.annotate(heightstr, \n",
    "                   (p.get_x() + p.get_width() / 2., p.get_height()), \n",
    "                   ha = 'center', va = 'center', \n",
    "                   xytext = (0, 9), \n",
    "                   textcoords = 'offset points')\n",
    "\n",
    "if create_images:\n",
    "    plt.savefig(imagefolderpath+'/Average_total_investments.png', bbox_inches='tight')\n",
    "else:\n",
    "    plt.show()"
   ]
  },
  {
   "cell_type": "markdown",
   "metadata": {},
   "source": [
    "#### 2. A plot showing the top 9 countries against the total amount of investments of funding type FT. This should make the top 3 countries (Country 1, Country 2, and Country 3) very clear."
   ]
  },
  {
   "cell_type": "code",
   "execution_count": 81,
   "metadata": {},
   "outputs": [
    {
     "data": {
      "image/png": "[encoded data removed]",
      "text/plain": [
       "<Figure size 1224x432 with 1 Axes>"
      ]
     },
     "metadata": {
      "needs_background": "light"
     },
     "output_type": "display_data"
    }
   ],
   "source": [
    "fig, ax = plt.subplots(figsize=[17,6])\n",
    "splot = sns.barplot(top9.index, top9.total_funding_usd.values, orient=\"V\")\n",
    "plt.title(\"Total venture funding in top 9 countries\", fontsize=fontsize_title)\n",
    "plt.ylabel(\"Total funding in USD\", fontsize=fontsize_axislabel)\n",
    "plt.xlabel(\"Countries\", fontsize=fontsize_axislabel)\n",
    "\n",
    "for p in splot.patches:\n",
    "    height = int(p.get_height())\n",
    "    heightstr = \"$ {:,}\".format(height)\n",
    "\n",
    "    splot.annotate(heightstr, \n",
    "                   (p.get_x() + p.get_width() / 2., p.get_height()), \n",
    "                   ha = 'center', va = 'center', \n",
    "                   xytext = (0, 9), \n",
    "                   textcoords = 'offset points')\n",
    "\n",
    "if create_images:\n",
    "    plt.savefig(imagefolderpath+'/Top9_totalventurefunding.png', bbox_inches='tight')\n",
    "else:\n",
    "    plt.show()"
   ]
  },
  {
   "cell_type": "markdown",
   "metadata": {},
   "source": [
    "#### 3. A plot showing the number of investments in the top 3 sectors of the top 3 countries on one chart (for the chosen investment type FT). "
   ]
  },
  {
   "cell_type": "code",
   "execution_count": 82,
   "metadata": {},
   "outputs": [
    {
     "data": {
      "text/plain": [
       "array(['IND', 'GBR', 'USA', 'CAN', 'AUS', 'SGP', 'IRL', 'NZL', 'NGA',\n",
       "       'PHL', 'KEN', 'ZAF', 'PAK', 'MLT', 'KNA', 'GHA'], dtype=object)"
      ]
     },
     "execution_count": 82,
     "metadata": {},
     "output_type": "execute_result"
    }
   ],
   "source": [
    "inp_sector_analysis2.country_code.unique()"
   ]
  },
  {
   "cell_type": "code",
   "execution_count": 83,
   "metadata": {},
   "outputs": [
    {
     "data": {
      "text/plain": [
       "array(['GBR', 'USA', 'CAN'], dtype=object)"
      ]
     },
     "execution_count": 83,
     "metadata": {},
     "output_type": "execute_result"
    }
   ],
   "source": [
    "#Filter the 3 countries from inp_sector_analysis2\n",
    "top3 = inp_sector_analysis2[inp_sector_analysis2.country_code.isin(top9.index[:3])]\n",
    "top3.country_code.unique()"
   ]
  },
  {
   "cell_type": "code",
   "execution_count": 84,
   "metadata": {},
   "outputs": [
    {
     "data": {
      "image/png": "[encoded data removed]",
      "text/plain": [
       "<Figure size 648x360 with 1 Axes>"
      ]
     },
     "metadata": {
      "needs_background": "light"
     },
     "output_type": "display_data"
    }
   ],
   "source": [
    "country_group = top3.groupby(\"country_code\")\n",
    "mainsector_value_counts = country_group[\"main_sector\"].apply(lambda x: x.value_counts()[0:3])\n",
    "\n",
    "mainsector_value_counts.unstack().plot.bar(stacked=True, figsize=figsize)\n",
    "plt.title(\"Number of investments in top 3 main sectors for top 3 countries\", fontsize=fontsize_title)\n",
    "plt.xlabel(\"Country\", fontsize=fontsize_axislabel)\n",
    "plt.ylabel(\"Number of investments\", fontsize=fontsize_axislabel)\n",
    "\n",
    "if create_images:\n",
    "    plt.savefig(imagefolderpath+'/Top3sectors_top3countries.png', bbox_inches='tight')\n",
    "else:\n",
    "    plt.show()"
   ]
  },
  {
   "cell_type": "code",
   "execution_count": 85,
   "metadata": {},
   "outputs": [
    {
     "data": {
      "text/plain": [
       "(13337, 7)"
      ]
     },
     "execution_count": 85,
     "metadata": {},
     "output_type": "execute_result"
    }
   ],
   "source": [
    "master_frame.shape"
   ]
  },
  {
   "cell_type": "code",
   "execution_count": 86,
   "metadata": {},
   "outputs": [
    {
     "data": {
      "text/plain": [
       "(12797, 6)"
      ]
     },
     "execution_count": 86,
     "metadata": {},
     "output_type": "execute_result"
    }
   ],
   "source": [
    "venture_master_frame.shape"
   ]
  },
  {
   "cell_type": "code",
   "execution_count": 87,
   "metadata": {},
   "outputs": [
    {
     "data": {
      "text/plain": [
       "(11807, 7)"
      ]
     },
     "execution_count": 87,
     "metadata": {},
     "output_type": "execute_result"
    }
   ],
   "source": [
    "inp_sector_analysis2.shape"
   ]
  },
  {
   "cell_type": "markdown",
   "metadata": {},
   "source": [
    "## Summary Checkpoint 6: Plots\n",
    "1. A plot showing the fraction of total investments (globally) in angel, venture, seed, and private equity, and the average amount of investment in each funding type. This chart should make it clear that a certain funding type (FT) is best suited for Spark Funds. __Plotted__\n",
    "\n",
    "2. A plot showing the top 9 countries against the total amount of investments of funding type FT. This should make the top 3 countries (Country 1, Country 2, and Country 3) very clear. __Plotted__\n",
    "\n",
    "3. A plot showing the number of investments in the top 3 sectors of the top 3 countries on one chart (for the chosen investment type FT). __Plotted__\n",
    "\n",
    "### master_frame shape: (13337, 7)\n",
    "### venture_master_frame: (12797, 6)\n",
    "### inp_sector_analysis2: (11807, 7)"
   ]
  },
  {
   "cell_type": "code",
   "execution_count": null,
   "metadata": {},
   "outputs": [],
   "source": []
  }
 ],
 "metadata": {
  "kernelspec": {
   "display_name": "Python 3",
   "language": "python",
   "name": "python3"
  },
  "language_info": {
   "codemirror_mode": {
    "name": "ipython",
    "version": 3
   },
   "file_extension": ".py",
   "mimetype": "text/x-python",
   "name": "python",
   "nbconvert_exporter": "python",
   "pygments_lexer": "ipython3",
   "version": "3.7.4"
  }
 },
 "nbformat": 4,
 "nbformat_minor": 2
}
